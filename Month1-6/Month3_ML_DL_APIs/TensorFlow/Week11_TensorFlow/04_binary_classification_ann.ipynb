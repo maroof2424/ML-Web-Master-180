{
  "nbformat": 4,
  "nbformat_minor": 0,
  "metadata": {
    "colab": {
      "provenance": []
    },
    "kernelspec": {
      "name": "python3",
      "display_name": "Python 3"
    },
    "language_info": {
      "name": "python"
    }
  },
  "cells": [
    {
      "cell_type": "code",
      "execution_count": 6,
      "metadata": {
        "id": "sB3lZ9smjCdT"
      },
      "outputs": [],
      "source": [
        "import numpy as np\n",
        "import pandas as pd\n",
        "import matplotlib.pyplot as plt\n",
        "import seaborn as sns\n",
        "import tensorflow as tf\n",
        "from sklearn.datasets import load_breast_cancer\n",
        "from sklearn.preprocessing import LabelEncoder,StandardScaler\n",
        "from sklearn.model_selection import train_test_split\n",
        "from tensorflow.keras.models import Sequential\n",
        "from tensorflow.keras.layers import Dense\n",
        "from tensorflow.keras.metrics import Precision, Recall\n",
        "from tensorflow.keras.utils import to_categorical"
      ]
    },
    {
      "cell_type": "code",
      "source": [
        "data = load_breast_cancer()\n",
        "X = data.data\n",
        "y = data.target"
      ],
      "metadata": {
        "id": "FV611tN-jtNg"
      },
      "execution_count": 7,
      "outputs": []
    },
    {
      "cell_type": "code",
      "source": [
        "scaler = StandardScaler()\n",
        "X_scaler = scaler.fit_transform(X)\n",
        "y_encoder = to_categorical(y)"
      ],
      "metadata": {
        "id": "5yvPfyapk7sP"
      },
      "execution_count": 8,
      "outputs": []
    },
    {
      "cell_type": "code",
      "source": [
        "X_train, X_test, y_train, y_test = train_test_split(X_scaler, y_encoder, test_size=0.33, random_state=42)"
      ],
      "metadata": {
        "id": "WJ2SrBH7k0p8"
      },
      "execution_count": 9,
      "outputs": []
    },
    {
      "cell_type": "code",
      "source": [
        "from tensorflow.keras.layers import Input\n",
        "\n",
        "model = Sequential([\n",
        "    Input(shape=(X_train.shape[1],)),\n",
        "    Dense(16, activation='relu'),\n",
        "    Dense(8, activation='relu'),\n",
        "    Dense(2, activation='softmax') # Changed to 2 neurons and softmax activation\n",
        "])"
      ],
      "metadata": {
        "id": "xk8W4zWTlvJU"
      },
      "execution_count": 13,
      "outputs": []
    },
    {
      "cell_type": "code",
      "source": [
        "model.compile(optimizer='adam',loss=\"categorical_crossentropy\",metrics=['accuracy', Precision(name='precision'), Recall(name='recall')]) # Changed loss function"
      ],
      "metadata": {
        "id": "jioUFCknl7ZT"
      },
      "execution_count": 15,
      "outputs": []
    },
    {
      "cell_type": "code",
      "source": [
        "history = model.fit(X_train, y_train, validation_data=(X_test, y_test), epochs=100, batch_size=16, verbose=1)"
      ],
      "metadata": {
        "colab": {
          "base_uri": "https://localhost:8080/"
        },
        "id": "vz_pmeNlmVvi",
        "outputId": "9b4fa23b-c359-4d98-8551-4837d2d97343"
      },
      "execution_count": 18,
      "outputs": [
        {
          "output_type": "stream",
          "name": "stdout",
          "text": [
            "Epoch 1/100\n",
            "\u001b[1m24/24\u001b[0m \u001b[32m━━━━━━━━━━━━━━━━━━━━\u001b[0m\u001b[37m\u001b[0m \u001b[1m0s\u001b[0m 16ms/step - accuracy: 1.0000 - loss: 3.3925e-04 - precision: 1.0000 - recall: 1.0000 - val_accuracy: 0.9787 - val_loss: 0.0953 - val_precision: 0.9787 - val_recall: 0.9787\n",
            "Epoch 2/100\n",
            "\u001b[1m24/24\u001b[0m \u001b[32m━━━━━━━━━━━━━━━━━━━━\u001b[0m\u001b[37m\u001b[0m \u001b[1m0s\u001b[0m 7ms/step - accuracy: 1.0000 - loss: 2.7295e-04 - precision: 1.0000 - recall: 1.0000 - val_accuracy: 0.9787 - val_loss: 0.0950 - val_precision: 0.9787 - val_recall: 0.9787\n",
            "Epoch 3/100\n",
            "\u001b[1m24/24\u001b[0m \u001b[32m━━━━━━━━━━━━━━━━━━━━\u001b[0m\u001b[37m\u001b[0m \u001b[1m0s\u001b[0m 7ms/step - accuracy: 1.0000 - loss: 3.1981e-04 - precision: 1.0000 - recall: 1.0000 - val_accuracy: 0.9787 - val_loss: 0.0967 - val_precision: 0.9787 - val_recall: 0.9787\n",
            "Epoch 4/100\n",
            "\u001b[1m24/24\u001b[0m \u001b[32m━━━━━━━━━━━━━━━━━━━━\u001b[0m\u001b[37m\u001b[0m \u001b[1m0s\u001b[0m 7ms/step - accuracy: 1.0000 - loss: 5.2358e-04 - precision: 1.0000 - recall: 1.0000 - val_accuracy: 0.9787 - val_loss: 0.0956 - val_precision: 0.9787 - val_recall: 0.9787\n",
            "Epoch 5/100\n",
            "\u001b[1m24/24\u001b[0m \u001b[32m━━━━━━━━━━━━━━━━━━━━\u001b[0m\u001b[37m\u001b[0m \u001b[1m0s\u001b[0m 8ms/step - accuracy: 1.0000 - loss: 4.5321e-04 - precision: 1.0000 - recall: 1.0000 - val_accuracy: 0.9787 - val_loss: 0.0971 - val_precision: 0.9787 - val_recall: 0.9787\n",
            "Epoch 6/100\n",
            "\u001b[1m24/24\u001b[0m \u001b[32m━━━━━━━━━━━━━━━━━━━━\u001b[0m\u001b[37m\u001b[0m \u001b[1m0s\u001b[0m 7ms/step - accuracy: 1.0000 - loss: 3.0816e-04 - precision: 1.0000 - recall: 1.0000 - val_accuracy: 0.9787 - val_loss: 0.0969 - val_precision: 0.9787 - val_recall: 0.9787\n",
            "Epoch 7/100\n",
            "\u001b[1m24/24\u001b[0m \u001b[32m━━━━━━━━━━━━━━━━━━━━\u001b[0m\u001b[37m\u001b[0m \u001b[1m0s\u001b[0m 7ms/step - accuracy: 1.0000 - loss: 4.2358e-04 - precision: 1.0000 - recall: 1.0000 - val_accuracy: 0.9787 - val_loss: 0.0976 - val_precision: 0.9787 - val_recall: 0.9787\n",
            "Epoch 8/100\n",
            "\u001b[1m24/24\u001b[0m \u001b[32m━━━━━━━━━━━━━━━━━━━━\u001b[0m\u001b[37m\u001b[0m \u001b[1m0s\u001b[0m 8ms/step - accuracy: 1.0000 - loss: 3.2139e-04 - precision: 1.0000 - recall: 1.0000 - val_accuracy: 0.9787 - val_loss: 0.0974 - val_precision: 0.9787 - val_recall: 0.9787\n",
            "Epoch 9/100\n",
            "\u001b[1m24/24\u001b[0m \u001b[32m━━━━━━━━━━━━━━━━━━━━\u001b[0m\u001b[37m\u001b[0m \u001b[1m0s\u001b[0m 7ms/step - accuracy: 1.0000 - loss: 2.8193e-04 - precision: 1.0000 - recall: 1.0000 - val_accuracy: 0.9787 - val_loss: 0.0982 - val_precision: 0.9787 - val_recall: 0.9787\n",
            "Epoch 10/100\n",
            "\u001b[1m24/24\u001b[0m \u001b[32m━━━━━━━━━━━━━━━━━━━━\u001b[0m\u001b[37m\u001b[0m \u001b[1m0s\u001b[0m 7ms/step - accuracy: 1.0000 - loss: 1.9141e-04 - precision: 1.0000 - recall: 1.0000 - val_accuracy: 0.9787 - val_loss: 0.0968 - val_precision: 0.9787 - val_recall: 0.9787\n",
            "Epoch 11/100\n",
            "\u001b[1m24/24\u001b[0m \u001b[32m━━━━━━━━━━━━━━━━━━━━\u001b[0m\u001b[37m\u001b[0m \u001b[1m0s\u001b[0m 7ms/step - accuracy: 1.0000 - loss: 4.9135e-04 - precision: 1.0000 - recall: 1.0000 - val_accuracy: 0.9787 - val_loss: 0.0991 - val_precision: 0.9787 - val_recall: 0.9787\n",
            "Epoch 12/100\n",
            "\u001b[1m24/24\u001b[0m \u001b[32m━━━━━━━━━━━━━━━━━━━━\u001b[0m\u001b[37m\u001b[0m \u001b[1m0s\u001b[0m 7ms/step - accuracy: 1.0000 - loss: 2.6088e-04 - precision: 1.0000 - recall: 1.0000 - val_accuracy: 0.9787 - val_loss: 0.0987 - val_precision: 0.9787 - val_recall: 0.9787\n",
            "Epoch 13/100\n",
            "\u001b[1m24/24\u001b[0m \u001b[32m━━━━━━━━━━━━━━━━━━━━\u001b[0m\u001b[37m\u001b[0m \u001b[1m0s\u001b[0m 8ms/step - accuracy: 1.0000 - loss: 3.4192e-04 - precision: 1.0000 - recall: 1.0000 - val_accuracy: 0.9787 - val_loss: 0.0980 - val_precision: 0.9787 - val_recall: 0.9787\n",
            "Epoch 14/100\n",
            "\u001b[1m24/24\u001b[0m \u001b[32m━━━━━━━━━━━━━━━━━━━━\u001b[0m\u001b[37m\u001b[0m \u001b[1m0s\u001b[0m 8ms/step - accuracy: 1.0000 - loss: 2.3313e-04 - precision: 1.0000 - recall: 1.0000 - val_accuracy: 0.9787 - val_loss: 0.0989 - val_precision: 0.9787 - val_recall: 0.9787\n",
            "Epoch 15/100\n",
            "\u001b[1m24/24\u001b[0m \u001b[32m━━━━━━━━━━━━━━━━━━━━\u001b[0m\u001b[37m\u001b[0m \u001b[1m0s\u001b[0m 8ms/step - accuracy: 1.0000 - loss: 3.9298e-04 - precision: 1.0000 - recall: 1.0000 - val_accuracy: 0.9787 - val_loss: 0.0984 - val_precision: 0.9787 - val_recall: 0.9787\n",
            "Epoch 16/100\n",
            "\u001b[1m24/24\u001b[0m \u001b[32m━━━━━━━━━━━━━━━━━━━━\u001b[0m\u001b[37m\u001b[0m \u001b[1m0s\u001b[0m 8ms/step - accuracy: 1.0000 - loss: 4.6091e-04 - precision: 1.0000 - recall: 1.0000 - val_accuracy: 0.9787 - val_loss: 0.0995 - val_precision: 0.9787 - val_recall: 0.9787\n",
            "Epoch 17/100\n",
            "\u001b[1m24/24\u001b[0m \u001b[32m━━━━━━━━━━━━━━━━━━━━\u001b[0m\u001b[37m\u001b[0m \u001b[1m0s\u001b[0m 7ms/step - accuracy: 1.0000 - loss: 3.9640e-04 - precision: 1.0000 - recall: 1.0000 - val_accuracy: 0.9787 - val_loss: 0.0990 - val_precision: 0.9787 - val_recall: 0.9787\n",
            "Epoch 18/100\n",
            "\u001b[1m24/24\u001b[0m \u001b[32m━━━━━━━━━━━━━━━━━━━━\u001b[0m\u001b[37m\u001b[0m \u001b[1m0s\u001b[0m 7ms/step - accuracy: 1.0000 - loss: 3.3838e-04 - precision: 1.0000 - recall: 1.0000 - val_accuracy: 0.9787 - val_loss: 0.0996 - val_precision: 0.9787 - val_recall: 0.9787\n",
            "Epoch 19/100\n",
            "\u001b[1m24/24\u001b[0m \u001b[32m━━━━━━━━━━━━━━━━━━━━\u001b[0m\u001b[37m\u001b[0m \u001b[1m0s\u001b[0m 9ms/step - accuracy: 1.0000 - loss: 2.2835e-04 - precision: 1.0000 - recall: 1.0000 - val_accuracy: 0.9787 - val_loss: 0.0997 - val_precision: 0.9787 - val_recall: 0.9787\n",
            "Epoch 20/100\n",
            "\u001b[1m24/24\u001b[0m \u001b[32m━━━━━━━━━━━━━━━━━━━━\u001b[0m\u001b[37m\u001b[0m \u001b[1m0s\u001b[0m 8ms/step - accuracy: 1.0000 - loss: 3.5848e-04 - precision: 1.0000 - recall: 1.0000 - val_accuracy: 0.9787 - val_loss: 0.1006 - val_precision: 0.9787 - val_recall: 0.9787\n",
            "Epoch 21/100\n",
            "\u001b[1m24/24\u001b[0m \u001b[32m━━━━━━━━━━━━━━━━━━━━\u001b[0m\u001b[37m\u001b[0m \u001b[1m0s\u001b[0m 8ms/step - accuracy: 1.0000 - loss: 2.5178e-04 - precision: 1.0000 - recall: 1.0000 - val_accuracy: 0.9787 - val_loss: 0.1015 - val_precision: 0.9787 - val_recall: 0.9787\n",
            "Epoch 22/100\n",
            "\u001b[1m24/24\u001b[0m \u001b[32m━━━━━━━━━━━━━━━━━━━━\u001b[0m\u001b[37m\u001b[0m \u001b[1m0s\u001b[0m 8ms/step - accuracy: 1.0000 - loss: 2.4825e-04 - precision: 1.0000 - recall: 1.0000 - val_accuracy: 0.9787 - val_loss: 0.1010 - val_precision: 0.9787 - val_recall: 0.9787\n",
            "Epoch 23/100\n",
            "\u001b[1m24/24\u001b[0m \u001b[32m━━━━━━━━━━━━━━━━━━━━\u001b[0m\u001b[37m\u001b[0m \u001b[1m0s\u001b[0m 8ms/step - accuracy: 1.0000 - loss: 3.5456e-04 - precision: 1.0000 - recall: 1.0000 - val_accuracy: 0.9787 - val_loss: 0.1016 - val_precision: 0.9787 - val_recall: 0.9787\n",
            "Epoch 24/100\n",
            "\u001b[1m24/24\u001b[0m \u001b[32m━━━━━━━━━━━━━━━━━━━━\u001b[0m\u001b[37m\u001b[0m \u001b[1m0s\u001b[0m 8ms/step - accuracy: 1.0000 - loss: 2.5915e-04 - precision: 1.0000 - recall: 1.0000 - val_accuracy: 0.9787 - val_loss: 0.1011 - val_precision: 0.9787 - val_recall: 0.9787\n",
            "Epoch 25/100\n",
            "\u001b[1m24/24\u001b[0m \u001b[32m━━━━━━━━━━━━━━━━━━━━\u001b[0m\u001b[37m\u001b[0m \u001b[1m0s\u001b[0m 7ms/step - accuracy: 1.0000 - loss: 2.6799e-04 - precision: 1.0000 - recall: 1.0000 - val_accuracy: 0.9787 - val_loss: 0.1011 - val_precision: 0.9787 - val_recall: 0.9787\n",
            "Epoch 26/100\n",
            "\u001b[1m24/24\u001b[0m \u001b[32m━━━━━━━━━━━━━━━━━━━━\u001b[0m\u001b[37m\u001b[0m \u001b[1m0s\u001b[0m 7ms/step - accuracy: 1.0000 - loss: 3.4059e-04 - precision: 1.0000 - recall: 1.0000 - val_accuracy: 0.9787 - val_loss: 0.1020 - val_precision: 0.9787 - val_recall: 0.9787\n",
            "Epoch 27/100\n",
            "\u001b[1m24/24\u001b[0m \u001b[32m━━━━━━━━━━━━━━━━━━━━\u001b[0m\u001b[37m\u001b[0m \u001b[1m0s\u001b[0m 7ms/step - accuracy: 1.0000 - loss: 1.6695e-04 - precision: 1.0000 - recall: 1.0000 - val_accuracy: 0.9787 - val_loss: 0.1019 - val_precision: 0.9787 - val_recall: 0.9787\n",
            "Epoch 28/100\n",
            "\u001b[1m24/24\u001b[0m \u001b[32m━━━━━━━━━━━━━━━━━━━━\u001b[0m\u001b[37m\u001b[0m \u001b[1m0s\u001b[0m 7ms/step - accuracy: 1.0000 - loss: 2.8390e-04 - precision: 1.0000 - recall: 1.0000 - val_accuracy: 0.9787 - val_loss: 0.1033 - val_precision: 0.9787 - val_recall: 0.9787\n",
            "Epoch 29/100\n",
            "\u001b[1m24/24\u001b[0m \u001b[32m━━━━━━━━━━━━━━━━━━━━\u001b[0m\u001b[37m\u001b[0m \u001b[1m0s\u001b[0m 8ms/step - accuracy: 1.0000 - loss: 2.4440e-04 - precision: 1.0000 - recall: 1.0000 - val_accuracy: 0.9787 - val_loss: 0.1028 - val_precision: 0.9787 - val_recall: 0.9787\n",
            "Epoch 30/100\n",
            "\u001b[1m24/24\u001b[0m \u001b[32m━━━━━━━━━━━━━━━━━━━━\u001b[0m\u001b[37m\u001b[0m \u001b[1m0s\u001b[0m 7ms/step - accuracy: 1.0000 - loss: 2.5552e-04 - precision: 1.0000 - recall: 1.0000 - val_accuracy: 0.9787 - val_loss: 0.1030 - val_precision: 0.9787 - val_recall: 0.9787\n",
            "Epoch 31/100\n",
            "\u001b[1m24/24\u001b[0m \u001b[32m━━━━━━━━━━━━━━━━━━━━\u001b[0m\u001b[37m\u001b[0m \u001b[1m0s\u001b[0m 9ms/step - accuracy: 1.0000 - loss: 2.8876e-04 - precision: 1.0000 - recall: 1.0000 - val_accuracy: 0.9787 - val_loss: 0.1042 - val_precision: 0.9787 - val_recall: 0.9787\n",
            "Epoch 32/100\n",
            "\u001b[1m24/24\u001b[0m \u001b[32m━━━━━━━━━━━━━━━━━━━━\u001b[0m\u001b[37m\u001b[0m \u001b[1m0s\u001b[0m 15ms/step - accuracy: 1.0000 - loss: 1.4074e-04 - precision: 1.0000 - recall: 1.0000 - val_accuracy: 0.9787 - val_loss: 0.1034 - val_precision: 0.9787 - val_recall: 0.9787\n",
            "Epoch 33/100\n",
            "\u001b[1m24/24\u001b[0m \u001b[32m━━━━━━━━━━━━━━━━━━━━\u001b[0m\u001b[37m\u001b[0m \u001b[1m0s\u001b[0m 13ms/step - accuracy: 1.0000 - loss: 2.2045e-04 - precision: 1.0000 - recall: 1.0000 - val_accuracy: 0.9787 - val_loss: 0.1048 - val_precision: 0.9787 - val_recall: 0.9787\n",
            "Epoch 34/100\n",
            "\u001b[1m24/24\u001b[0m \u001b[32m━━━━━━━━━━━━━━━━━━━━\u001b[0m\u001b[37m\u001b[0m \u001b[1m0s\u001b[0m 14ms/step - accuracy: 1.0000 - loss: 2.6368e-04 - precision: 1.0000 - recall: 1.0000 - val_accuracy: 0.9787 - val_loss: 0.1047 - val_precision: 0.9787 - val_recall: 0.9787\n",
            "Epoch 35/100\n",
            "\u001b[1m24/24\u001b[0m \u001b[32m━━━━━━━━━━━━━━━━━━━━\u001b[0m\u001b[37m\u001b[0m \u001b[1m0s\u001b[0m 12ms/step - accuracy: 1.0000 - loss: 2.9210e-04 - precision: 1.0000 - recall: 1.0000 - val_accuracy: 0.9787 - val_loss: 0.1053 - val_precision: 0.9787 - val_recall: 0.9787\n",
            "Epoch 36/100\n",
            "\u001b[1m24/24\u001b[0m \u001b[32m━━━━━━━━━━━━━━━━━━━━\u001b[0m\u001b[37m\u001b[0m \u001b[1m1s\u001b[0m 13ms/step - accuracy: 1.0000 - loss: 2.0928e-04 - precision: 1.0000 - recall: 1.0000 - val_accuracy: 0.9787 - val_loss: 0.1051 - val_precision: 0.9787 - val_recall: 0.9787\n",
            "Epoch 37/100\n",
            "\u001b[1m24/24\u001b[0m \u001b[32m━━━━━━━━━━━━━━━━━━━━\u001b[0m\u001b[37m\u001b[0m \u001b[1m0s\u001b[0m 8ms/step - accuracy: 1.0000 - loss: 3.3307e-04 - precision: 1.0000 - recall: 1.0000 - val_accuracy: 0.9787 - val_loss: 0.1061 - val_precision: 0.9787 - val_recall: 0.9787\n",
            "Epoch 38/100\n",
            "\u001b[1m24/24\u001b[0m \u001b[32m━━━━━━━━━━━━━━━━━━━━\u001b[0m\u001b[37m\u001b[0m \u001b[1m0s\u001b[0m 7ms/step - accuracy: 1.0000 - loss: 3.6414e-04 - precision: 1.0000 - recall: 1.0000 - val_accuracy: 0.9787 - val_loss: 0.1053 - val_precision: 0.9787 - val_recall: 0.9787\n",
            "Epoch 39/100\n",
            "\u001b[1m24/24\u001b[0m \u001b[32m━━━━━━━━━━━━━━━━━━━━\u001b[0m\u001b[37m\u001b[0m \u001b[1m0s\u001b[0m 7ms/step - accuracy: 1.0000 - loss: 2.6434e-04 - precision: 1.0000 - recall: 1.0000 - val_accuracy: 0.9787 - val_loss: 0.1055 - val_precision: 0.9787 - val_recall: 0.9787\n",
            "Epoch 40/100\n",
            "\u001b[1m24/24\u001b[0m \u001b[32m━━━━━━━━━━━━━━━━━━━━\u001b[0m\u001b[37m\u001b[0m \u001b[1m0s\u001b[0m 8ms/step - accuracy: 1.0000 - loss: 2.5918e-04 - precision: 1.0000 - recall: 1.0000 - val_accuracy: 0.9787 - val_loss: 0.1074 - val_precision: 0.9787 - val_recall: 0.9787\n",
            "Epoch 41/100\n",
            "\u001b[1m24/24\u001b[0m \u001b[32m━━━━━━━━━━━━━━━━━━━━\u001b[0m\u001b[37m\u001b[0m \u001b[1m0s\u001b[0m 8ms/step - accuracy: 1.0000 - loss: 2.2469e-04 - precision: 1.0000 - recall: 1.0000 - val_accuracy: 0.9787 - val_loss: 0.1070 - val_precision: 0.9787 - val_recall: 0.9787\n",
            "Epoch 42/100\n",
            "\u001b[1m24/24\u001b[0m \u001b[32m━━━━━━━━━━━━━━━━━━━━\u001b[0m\u001b[37m\u001b[0m \u001b[1m0s\u001b[0m 9ms/step - accuracy: 1.0000 - loss: 2.2004e-04 - precision: 1.0000 - recall: 1.0000 - val_accuracy: 0.9787 - val_loss: 0.1075 - val_precision: 0.9787 - val_recall: 0.9787\n",
            "Epoch 43/100\n",
            "\u001b[1m24/24\u001b[0m \u001b[32m━━━━━━━━━━━━━━━━━━━━\u001b[0m\u001b[37m\u001b[0m \u001b[1m0s\u001b[0m 7ms/step - accuracy: 1.0000 - loss: 2.6369e-04 - precision: 1.0000 - recall: 1.0000 - val_accuracy: 0.9787 - val_loss: 0.1073 - val_precision: 0.9787 - val_recall: 0.9787\n",
            "Epoch 44/100\n",
            "\u001b[1m24/24\u001b[0m \u001b[32m━━━━━━━━━━━━━━━━━━━━\u001b[0m\u001b[37m\u001b[0m \u001b[1m0s\u001b[0m 7ms/step - accuracy: 1.0000 - loss: 1.2324e-04 - precision: 1.0000 - recall: 1.0000 - val_accuracy: 0.9787 - val_loss: 0.1073 - val_precision: 0.9787 - val_recall: 0.9787\n",
            "Epoch 45/100\n",
            "\u001b[1m24/24\u001b[0m \u001b[32m━━━━━━━━━━━━━━━━━━━━\u001b[0m\u001b[37m\u001b[0m \u001b[1m0s\u001b[0m 7ms/step - accuracy: 1.0000 - loss: 1.7527e-04 - precision: 1.0000 - recall: 1.0000 - val_accuracy: 0.9787 - val_loss: 0.1087 - val_precision: 0.9787 - val_recall: 0.9787\n",
            "Epoch 46/100\n",
            "\u001b[1m24/24\u001b[0m \u001b[32m━━━━━━━━━━━━━━━━━━━━\u001b[0m\u001b[37m\u001b[0m \u001b[1m0s\u001b[0m 7ms/step - accuracy: 1.0000 - loss: 1.6379e-04 - precision: 1.0000 - recall: 1.0000 - val_accuracy: 0.9787 - val_loss: 0.1083 - val_precision: 0.9787 - val_recall: 0.9787\n",
            "Epoch 47/100\n",
            "\u001b[1m24/24\u001b[0m \u001b[32m━━━━━━━━━━━━━━━━━━━━\u001b[0m\u001b[37m\u001b[0m \u001b[1m0s\u001b[0m 8ms/step - accuracy: 1.0000 - loss: 2.7027e-04 - precision: 1.0000 - recall: 1.0000 - val_accuracy: 0.9787 - val_loss: 0.1083 - val_precision: 0.9787 - val_recall: 0.9787\n",
            "Epoch 48/100\n",
            "\u001b[1m24/24\u001b[0m \u001b[32m━━━━━━━━━━━━━━━━━━━━\u001b[0m\u001b[37m\u001b[0m \u001b[1m0s\u001b[0m 7ms/step - accuracy: 1.0000 - loss: 2.1188e-04 - precision: 1.0000 - recall: 1.0000 - val_accuracy: 0.9787 - val_loss: 0.1100 - val_precision: 0.9787 - val_recall: 0.9787\n",
            "Epoch 49/100\n",
            "\u001b[1m24/24\u001b[0m \u001b[32m━━━━━━━━━━━━━━━━━━━━\u001b[0m\u001b[37m\u001b[0m \u001b[1m0s\u001b[0m 7ms/step - accuracy: 1.0000 - loss: 1.7490e-04 - precision: 1.0000 - recall: 1.0000 - val_accuracy: 0.9787 - val_loss: 0.1098 - val_precision: 0.9787 - val_recall: 0.9787\n",
            "Epoch 50/100\n",
            "\u001b[1m24/24\u001b[0m \u001b[32m━━━━━━━━━━━━━━━━━━━━\u001b[0m\u001b[37m\u001b[0m \u001b[1m0s\u001b[0m 7ms/step - accuracy: 1.0000 - loss: 1.5716e-04 - precision: 1.0000 - recall: 1.0000 - val_accuracy: 0.9787 - val_loss: 0.1102 - val_precision: 0.9787 - val_recall: 0.9787\n",
            "Epoch 51/100\n",
            "\u001b[1m24/24\u001b[0m \u001b[32m━━━━━━━━━━━━━━━━━━━━\u001b[0m\u001b[37m\u001b[0m \u001b[1m0s\u001b[0m 7ms/step - accuracy: 1.0000 - loss: 2.6690e-04 - precision: 1.0000 - recall: 1.0000 - val_accuracy: 0.9787 - val_loss: 0.1091 - val_precision: 0.9787 - val_recall: 0.9787\n",
            "Epoch 52/100\n",
            "\u001b[1m24/24\u001b[0m \u001b[32m━━━━━━━━━━━━━━━━━━━━\u001b[0m\u001b[37m\u001b[0m \u001b[1m0s\u001b[0m 7ms/step - accuracy: 1.0000 - loss: 1.4204e-04 - precision: 1.0000 - recall: 1.0000 - val_accuracy: 0.9787 - val_loss: 0.1113 - val_precision: 0.9787 - val_recall: 0.9787\n",
            "Epoch 53/100\n",
            "\u001b[1m24/24\u001b[0m \u001b[32m━━━━━━━━━━━━━━━━━━━━\u001b[0m\u001b[37m\u001b[0m \u001b[1m0s\u001b[0m 7ms/step - accuracy: 1.0000 - loss: 1.1391e-04 - precision: 1.0000 - recall: 1.0000 - val_accuracy: 0.9787 - val_loss: 0.1096 - val_precision: 0.9787 - val_recall: 0.9787\n",
            "Epoch 54/100\n",
            "\u001b[1m24/24\u001b[0m \u001b[32m━━━━━━━━━━━━━━━━━━━━\u001b[0m\u001b[37m\u001b[0m \u001b[1m0s\u001b[0m 7ms/step - accuracy: 1.0000 - loss: 1.6324e-04 - precision: 1.0000 - recall: 1.0000 - val_accuracy: 0.9787 - val_loss: 0.1119 - val_precision: 0.9787 - val_recall: 0.9787\n",
            "Epoch 55/100\n",
            "\u001b[1m24/24\u001b[0m \u001b[32m━━━━━━━━━━━━━━━━━━━━\u001b[0m\u001b[37m\u001b[0m \u001b[1m0s\u001b[0m 7ms/step - accuracy: 1.0000 - loss: 1.4973e-04 - precision: 1.0000 - recall: 1.0000 - val_accuracy: 0.9787 - val_loss: 0.1111 - val_precision: 0.9787 - val_recall: 0.9787\n",
            "Epoch 56/100\n",
            "\u001b[1m24/24\u001b[0m \u001b[32m━━━━━━━━━━━━━━━━━━━━\u001b[0m\u001b[37m\u001b[0m \u001b[1m0s\u001b[0m 8ms/step - accuracy: 1.0000 - loss: 1.4285e-04 - precision: 1.0000 - recall: 1.0000 - val_accuracy: 0.9787 - val_loss: 0.1118 - val_precision: 0.9787 - val_recall: 0.9787\n",
            "Epoch 57/100\n",
            "\u001b[1m24/24\u001b[0m \u001b[32m━━━━━━━━━━━━━━━━━━━━\u001b[0m\u001b[37m\u001b[0m \u001b[1m0s\u001b[0m 8ms/step - accuracy: 1.0000 - loss: 1.7380e-04 - precision: 1.0000 - recall: 1.0000 - val_accuracy: 0.9787 - val_loss: 0.1116 - val_precision: 0.9787 - val_recall: 0.9787\n",
            "Epoch 58/100\n",
            "\u001b[1m24/24\u001b[0m \u001b[32m━━━━━━━━━━━━━━━━━━━━\u001b[0m\u001b[37m\u001b[0m \u001b[1m0s\u001b[0m 7ms/step - accuracy: 1.0000 - loss: 1.7585e-04 - precision: 1.0000 - recall: 1.0000 - val_accuracy: 0.9787 - val_loss: 0.1120 - val_precision: 0.9787 - val_recall: 0.9787\n",
            "Epoch 59/100\n",
            "\u001b[1m24/24\u001b[0m \u001b[32m━━━━━━━━━━━━━━━━━━━━\u001b[0m\u001b[37m\u001b[0m \u001b[1m0s\u001b[0m 7ms/step - accuracy: 1.0000 - loss: 1.1710e-04 - precision: 1.0000 - recall: 1.0000 - val_accuracy: 0.9787 - val_loss: 0.1130 - val_precision: 0.9787 - val_recall: 0.9787\n",
            "Epoch 60/100\n",
            "\u001b[1m24/24\u001b[0m \u001b[32m━━━━━━━━━━━━━━━━━━━━\u001b[0m\u001b[37m\u001b[0m \u001b[1m0s\u001b[0m 7ms/step - accuracy: 1.0000 - loss: 1.1549e-04 - precision: 1.0000 - recall: 1.0000 - val_accuracy: 0.9787 - val_loss: 0.1125 - val_precision: 0.9787 - val_recall: 0.9787\n",
            "Epoch 61/100\n",
            "\u001b[1m24/24\u001b[0m \u001b[32m━━━━━━━━━━━━━━━━━━━━\u001b[0m\u001b[37m\u001b[0m \u001b[1m0s\u001b[0m 8ms/step - accuracy: 1.0000 - loss: 2.1333e-04 - precision: 1.0000 - recall: 1.0000 - val_accuracy: 0.9787 - val_loss: 0.1139 - val_precision: 0.9787 - val_recall: 0.9787\n",
            "Epoch 62/100\n",
            "\u001b[1m24/24\u001b[0m \u001b[32m━━━━━━━━━━━━━━━━━━━━\u001b[0m\u001b[37m\u001b[0m \u001b[1m0s\u001b[0m 9ms/step - accuracy: 1.0000 - loss: 1.0969e-04 - precision: 1.0000 - recall: 1.0000 - val_accuracy: 0.9787 - val_loss: 0.1140 - val_precision: 0.9787 - val_recall: 0.9787\n",
            "Epoch 63/100\n",
            "\u001b[1m24/24\u001b[0m \u001b[32m━━━━━━━━━━━━━━━━━━━━\u001b[0m\u001b[37m\u001b[0m \u001b[1m0s\u001b[0m 8ms/step - accuracy: 1.0000 - loss: 2.2392e-04 - precision: 1.0000 - recall: 1.0000 - val_accuracy: 0.9787 - val_loss: 0.1142 - val_precision: 0.9787 - val_recall: 0.9787\n",
            "Epoch 64/100\n",
            "\u001b[1m24/24\u001b[0m \u001b[32m━━━━━━━━━━━━━━━━━━━━\u001b[0m\u001b[37m\u001b[0m \u001b[1m0s\u001b[0m 7ms/step - accuracy: 1.0000 - loss: 1.9770e-04 - precision: 1.0000 - recall: 1.0000 - val_accuracy: 0.9787 - val_loss: 0.1131 - val_precision: 0.9787 - val_recall: 0.9787\n",
            "Epoch 65/100\n",
            "\u001b[1m24/24\u001b[0m \u001b[32m━━━━━━━━━━━━━━━━━━━━\u001b[0m\u001b[37m\u001b[0m \u001b[1m0s\u001b[0m 7ms/step - accuracy: 1.0000 - loss: 9.4192e-05 - precision: 1.0000 - recall: 1.0000 - val_accuracy: 0.9787 - val_loss: 0.1133 - val_precision: 0.9787 - val_recall: 0.9787\n",
            "Epoch 66/100\n",
            "\u001b[1m24/24\u001b[0m \u001b[32m━━━━━━━━━━━━━━━━━━━━\u001b[0m\u001b[37m\u001b[0m \u001b[1m0s\u001b[0m 7ms/step - accuracy: 1.0000 - loss: 1.4849e-04 - precision: 1.0000 - recall: 1.0000 - val_accuracy: 0.9787 - val_loss: 0.1149 - val_precision: 0.9787 - val_recall: 0.9787\n",
            "Epoch 67/100\n",
            "\u001b[1m24/24\u001b[0m \u001b[32m━━━━━━━━━━━━━━━━━━━━\u001b[0m\u001b[37m\u001b[0m \u001b[1m0s\u001b[0m 8ms/step - accuracy: 1.0000 - loss: 1.3447e-04 - precision: 1.0000 - recall: 1.0000 - val_accuracy: 0.9787 - val_loss: 0.1148 - val_precision: 0.9787 - val_recall: 0.9787\n",
            "Epoch 68/100\n",
            "\u001b[1m24/24\u001b[0m \u001b[32m━━━━━━━━━━━━━━━━━━━━\u001b[0m\u001b[37m\u001b[0m \u001b[1m0s\u001b[0m 7ms/step - accuracy: 1.0000 - loss: 1.0739e-04 - precision: 1.0000 - recall: 1.0000 - val_accuracy: 0.9787 - val_loss: 0.1155 - val_precision: 0.9787 - val_recall: 0.9787\n",
            "Epoch 69/100\n",
            "\u001b[1m24/24\u001b[0m \u001b[32m━━━━━━━━━━━━━━━━━━━━\u001b[0m\u001b[37m\u001b[0m \u001b[1m0s\u001b[0m 7ms/step - accuracy: 1.0000 - loss: 1.7439e-04 - precision: 1.0000 - recall: 1.0000 - val_accuracy: 0.9787 - val_loss: 0.1150 - val_precision: 0.9787 - val_recall: 0.9787\n",
            "Epoch 70/100\n",
            "\u001b[1m24/24\u001b[0m \u001b[32m━━━━━━━━━━━━━━━━━━━━\u001b[0m\u001b[37m\u001b[0m \u001b[1m0s\u001b[0m 7ms/step - accuracy: 1.0000 - loss: 1.6693e-04 - precision: 1.0000 - recall: 1.0000 - val_accuracy: 0.9787 - val_loss: 0.1152 - val_precision: 0.9787 - val_recall: 0.9787\n",
            "Epoch 71/100\n",
            "\u001b[1m24/24\u001b[0m \u001b[32m━━━━━━━━━━━━━━━━━━━━\u001b[0m\u001b[37m\u001b[0m \u001b[1m0s\u001b[0m 7ms/step - accuracy: 1.0000 - loss: 1.7681e-04 - precision: 1.0000 - recall: 1.0000 - val_accuracy: 0.9787 - val_loss: 0.1155 - val_precision: 0.9787 - val_recall: 0.9787\n",
            "Epoch 72/100\n",
            "\u001b[1m24/24\u001b[0m \u001b[32m━━━━━━━━━━━━━━━━━━━━\u001b[0m\u001b[37m\u001b[0m \u001b[1m0s\u001b[0m 8ms/step - accuracy: 1.0000 - loss: 1.4867e-04 - precision: 1.0000 - recall: 1.0000 - val_accuracy: 0.9787 - val_loss: 0.1162 - val_precision: 0.9787 - val_recall: 0.9787\n",
            "Epoch 73/100\n",
            "\u001b[1m24/24\u001b[0m \u001b[32m━━━━━━━━━━━━━━━━━━━━\u001b[0m\u001b[37m\u001b[0m \u001b[1m0s\u001b[0m 7ms/step - accuracy: 1.0000 - loss: 9.6581e-05 - precision: 1.0000 - recall: 1.0000 - val_accuracy: 0.9787 - val_loss: 0.1162 - val_precision: 0.9787 - val_recall: 0.9787\n",
            "Epoch 74/100\n",
            "\u001b[1m24/24\u001b[0m \u001b[32m━━━━━━━━━━━━━━━━━━━━\u001b[0m\u001b[37m\u001b[0m \u001b[1m0s\u001b[0m 7ms/step - accuracy: 1.0000 - loss: 1.2015e-04 - precision: 1.0000 - recall: 1.0000 - val_accuracy: 0.9787 - val_loss: 0.1162 - val_precision: 0.9787 - val_recall: 0.9787\n",
            "Epoch 75/100\n",
            "\u001b[1m24/24\u001b[0m \u001b[32m━━━━━━━━━━━━━━━━━━━━\u001b[0m\u001b[37m\u001b[0m \u001b[1m0s\u001b[0m 7ms/step - accuracy: 1.0000 - loss: 1.7211e-04 - precision: 1.0000 - recall: 1.0000 - val_accuracy: 0.9787 - val_loss: 0.1162 - val_precision: 0.9787 - val_recall: 0.9787\n",
            "Epoch 76/100\n",
            "\u001b[1m24/24\u001b[0m \u001b[32m━━━━━━━━━━━━━━━━━━━━\u001b[0m\u001b[37m\u001b[0m \u001b[1m0s\u001b[0m 7ms/step - accuracy: 1.0000 - loss: 8.1326e-05 - precision: 1.0000 - recall: 1.0000 - val_accuracy: 0.9787 - val_loss: 0.1157 - val_precision: 0.9787 - val_recall: 0.9787\n",
            "Epoch 77/100\n",
            "\u001b[1m24/24\u001b[0m \u001b[32m━━━━━━━━━━━━━━━━━━━━\u001b[0m\u001b[37m\u001b[0m \u001b[1m0s\u001b[0m 7ms/step - accuracy: 1.0000 - loss: 1.2545e-04 - precision: 1.0000 - recall: 1.0000 - val_accuracy: 0.9787 - val_loss: 0.1182 - val_precision: 0.9787 - val_recall: 0.9787\n",
            "Epoch 78/100\n",
            "\u001b[1m24/24\u001b[0m \u001b[32m━━━━━━━━━━━━━━━━━━━━\u001b[0m\u001b[37m\u001b[0m \u001b[1m0s\u001b[0m 7ms/step - accuracy: 1.0000 - loss: 1.1115e-04 - precision: 1.0000 - recall: 1.0000 - val_accuracy: 0.9787 - val_loss: 0.1189 - val_precision: 0.9787 - val_recall: 0.9787\n",
            "Epoch 79/100\n",
            "\u001b[1m24/24\u001b[0m \u001b[32m━━━━━━━━━━━━━━━━━━━━\u001b[0m\u001b[37m\u001b[0m \u001b[1m0s\u001b[0m 7ms/step - accuracy: 1.0000 - loss: 1.6075e-04 - precision: 1.0000 - recall: 1.0000 - val_accuracy: 0.9787 - val_loss: 0.1176 - val_precision: 0.9787 - val_recall: 0.9787\n",
            "Epoch 80/100\n",
            "\u001b[1m24/24\u001b[0m \u001b[32m━━━━━━━━━━━━━━━━━━━━\u001b[0m\u001b[37m\u001b[0m \u001b[1m0s\u001b[0m 7ms/step - accuracy: 1.0000 - loss: 1.3183e-04 - precision: 1.0000 - recall: 1.0000 - val_accuracy: 0.9787 - val_loss: 0.1186 - val_precision: 0.9787 - val_recall: 0.9787\n",
            "Epoch 81/100\n",
            "\u001b[1m24/24\u001b[0m \u001b[32m━━━━━━━━━━━━━━━━━━━━\u001b[0m\u001b[37m\u001b[0m \u001b[1m0s\u001b[0m 7ms/step - accuracy: 1.0000 - loss: 1.1088e-04 - precision: 1.0000 - recall: 1.0000 - val_accuracy: 0.9787 - val_loss: 0.1193 - val_precision: 0.9787 - val_recall: 0.9787\n",
            "Epoch 82/100\n",
            "\u001b[1m24/24\u001b[0m \u001b[32m━━━━━━━━━━━━━━━━━━━━\u001b[0m\u001b[37m\u001b[0m \u001b[1m0s\u001b[0m 8ms/step - accuracy: 1.0000 - loss: 5.5568e-05 - precision: 1.0000 - recall: 1.0000 - val_accuracy: 0.9787 - val_loss: 0.1197 - val_precision: 0.9787 - val_recall: 0.9787\n",
            "Epoch 83/100\n",
            "\u001b[1m24/24\u001b[0m \u001b[32m━━━━━━━━━━━━━━━━━━━━\u001b[0m\u001b[37m\u001b[0m \u001b[1m0s\u001b[0m 7ms/step - accuracy: 1.0000 - loss: 1.0847e-04 - precision: 1.0000 - recall: 1.0000 - val_accuracy: 0.9734 - val_loss: 0.1185 - val_precision: 0.9734 - val_recall: 0.9734\n",
            "Epoch 84/100\n",
            "\u001b[1m24/24\u001b[0m \u001b[32m━━━━━━━━━━━━━━━━━━━━\u001b[0m\u001b[37m\u001b[0m \u001b[1m0s\u001b[0m 12ms/step - accuracy: 1.0000 - loss: 9.8541e-05 - precision: 1.0000 - recall: 1.0000 - val_accuracy: 0.9787 - val_loss: 0.1189 - val_precision: 0.9787 - val_recall: 0.9787\n",
            "Epoch 85/100\n",
            "\u001b[1m24/24\u001b[0m \u001b[32m━━━━━━━━━━━━━━━━━━━━\u001b[0m\u001b[37m\u001b[0m \u001b[1m1s\u001b[0m 10ms/step - accuracy: 1.0000 - loss: 8.5771e-05 - precision: 1.0000 - recall: 1.0000 - val_accuracy: 0.9787 - val_loss: 0.1199 - val_precision: 0.9787 - val_recall: 0.9787\n",
            "Epoch 86/100\n",
            "\u001b[1m24/24\u001b[0m \u001b[32m━━━━━━━━━━━━━━━━━━━━\u001b[0m\u001b[37m\u001b[0m \u001b[1m0s\u001b[0m 10ms/step - accuracy: 1.0000 - loss: 1.2038e-04 - precision: 1.0000 - recall: 1.0000 - val_accuracy: 0.9787 - val_loss: 0.1202 - val_precision: 0.9787 - val_recall: 0.9787\n",
            "Epoch 87/100\n",
            "\u001b[1m24/24\u001b[0m \u001b[32m━━━━━━━━━━━━━━━━━━━━\u001b[0m\u001b[37m\u001b[0m \u001b[1m0s\u001b[0m 10ms/step - accuracy: 1.0000 - loss: 5.6481e-05 - precision: 1.0000 - recall: 1.0000 - val_accuracy: 0.9787 - val_loss: 0.1206 - val_precision: 0.9787 - val_recall: 0.9787\n",
            "Epoch 88/100\n",
            "\u001b[1m24/24\u001b[0m \u001b[32m━━━━━━━━━━━━━━━━━━━━\u001b[0m\u001b[37m\u001b[0m \u001b[1m0s\u001b[0m 10ms/step - accuracy: 1.0000 - loss: 8.1061e-05 - precision: 1.0000 - recall: 1.0000 - val_accuracy: 0.9787 - val_loss: 0.1210 - val_precision: 0.9787 - val_recall: 0.9787\n",
            "Epoch 89/100\n",
            "\u001b[1m24/24\u001b[0m \u001b[32m━━━━━━━━━━━━━━━━━━━━\u001b[0m\u001b[37m\u001b[0m \u001b[1m0s\u001b[0m 11ms/step - accuracy: 1.0000 - loss: 1.1522e-04 - precision: 1.0000 - recall: 1.0000 - val_accuracy: 0.9787 - val_loss: 0.1212 - val_precision: 0.9787 - val_recall: 0.9787\n",
            "Epoch 90/100\n",
            "\u001b[1m24/24\u001b[0m \u001b[32m━━━━━━━━━━━━━━━━━━━━\u001b[0m\u001b[37m\u001b[0m \u001b[1m0s\u001b[0m 12ms/step - accuracy: 1.0000 - loss: 1.3114e-04 - precision: 1.0000 - recall: 1.0000 - val_accuracy: 0.9734 - val_loss: 0.1203 - val_precision: 0.9734 - val_recall: 0.9734\n",
            "Epoch 91/100\n",
            "\u001b[1m24/24\u001b[0m \u001b[32m━━━━━━━━━━━━━━━━━━━━\u001b[0m\u001b[37m\u001b[0m \u001b[1m0s\u001b[0m 10ms/step - accuracy: 1.0000 - loss: 8.2519e-05 - precision: 1.0000 - recall: 1.0000 - val_accuracy: 0.9787 - val_loss: 0.1223 - val_precision: 0.9787 - val_recall: 0.9787\n",
            "Epoch 92/100\n",
            "\u001b[1m24/24\u001b[0m \u001b[32m━━━━━━━━━━━━━━━━━━━━\u001b[0m\u001b[37m\u001b[0m \u001b[1m0s\u001b[0m 7ms/step - accuracy: 1.0000 - loss: 8.5862e-05 - precision: 1.0000 - recall: 1.0000 - val_accuracy: 0.9787 - val_loss: 0.1226 - val_precision: 0.9787 - val_recall: 0.9787\n",
            "Epoch 93/100\n",
            "\u001b[1m24/24\u001b[0m \u001b[32m━━━━━━━━━━━━━━━━━━━━\u001b[0m\u001b[37m\u001b[0m \u001b[1m0s\u001b[0m 7ms/step - accuracy: 1.0000 - loss: 7.8459e-05 - precision: 1.0000 - recall: 1.0000 - val_accuracy: 0.9787 - val_loss: 0.1223 - val_precision: 0.9787 - val_recall: 0.9787\n",
            "Epoch 94/100\n",
            "\u001b[1m24/24\u001b[0m \u001b[32m━━━━━━━━━━━━━━━━━━━━\u001b[0m\u001b[37m\u001b[0m \u001b[1m0s\u001b[0m 7ms/step - accuracy: 1.0000 - loss: 9.9201e-05 - precision: 1.0000 - recall: 1.0000 - val_accuracy: 0.9787 - val_loss: 0.1224 - val_precision: 0.9787 - val_recall: 0.9787\n",
            "Epoch 95/100\n",
            "\u001b[1m24/24\u001b[0m \u001b[32m━━━━━━━━━━━━━━━━━━━━\u001b[0m\u001b[37m\u001b[0m \u001b[1m0s\u001b[0m 8ms/step - accuracy: 1.0000 - loss: 7.3575e-05 - precision: 1.0000 - recall: 1.0000 - val_accuracy: 0.9734 - val_loss: 0.1220 - val_precision: 0.9734 - val_recall: 0.9734\n",
            "Epoch 96/100\n",
            "\u001b[1m24/24\u001b[0m \u001b[32m━━━━━━━━━━━━━━━━━━━━\u001b[0m\u001b[37m\u001b[0m \u001b[1m0s\u001b[0m 7ms/step - accuracy: 1.0000 - loss: 9.0183e-05 - precision: 1.0000 - recall: 1.0000 - val_accuracy: 0.9734 - val_loss: 0.1249 - val_precision: 0.9734 - val_recall: 0.9734\n",
            "Epoch 97/100\n",
            "\u001b[1m24/24\u001b[0m \u001b[32m━━━━━━━━━━━━━━━━━━━━\u001b[0m\u001b[37m\u001b[0m \u001b[1m0s\u001b[0m 8ms/step - accuracy: 1.0000 - loss: 7.0708e-05 - precision: 1.0000 - recall: 1.0000 - val_accuracy: 0.9787 - val_loss: 0.1231 - val_precision: 0.9787 - val_recall: 0.9787\n",
            "Epoch 98/100\n",
            "\u001b[1m24/24\u001b[0m \u001b[32m━━━━━━━━━━━━━━━━━━━━\u001b[0m\u001b[37m\u001b[0m \u001b[1m0s\u001b[0m 7ms/step - accuracy: 1.0000 - loss: 9.9689e-05 - precision: 1.0000 - recall: 1.0000 - val_accuracy: 0.9734 - val_loss: 0.1235 - val_precision: 0.9734 - val_recall: 0.9734\n",
            "Epoch 99/100\n",
            "\u001b[1m24/24\u001b[0m \u001b[32m━━━━━━━━━━━━━━━━━━━━\u001b[0m\u001b[37m\u001b[0m \u001b[1m0s\u001b[0m 7ms/step - accuracy: 1.0000 - loss: 9.6543e-05 - precision: 1.0000 - recall: 1.0000 - val_accuracy: 0.9787 - val_loss: 0.1233 - val_precision: 0.9787 - val_recall: 0.9787\n",
            "Epoch 100/100\n",
            "\u001b[1m24/24\u001b[0m \u001b[32m━━━━━━━━━━━━━━━━━━━━\u001b[0m\u001b[37m\u001b[0m \u001b[1m0s\u001b[0m 7ms/step - accuracy: 1.0000 - loss: 4.6408e-05 - precision: 1.0000 - recall: 1.0000 - val_accuracy: 0.9734 - val_loss: 0.1241 - val_precision: 0.9734 - val_recall: 0.9734\n"
          ]
        }
      ]
    },
    {
      "cell_type": "code",
      "source": [
        "results = model.evaluate(X_test, y_test, verbose=1)\n",
        "print(f\"Accuracy: {results[1]:.3f}, Precision: {results[2]:.3f}, Recall: {results[3]:.3f}\")"
      ],
      "metadata": {
        "colab": {
          "base_uri": "https://localhost:8080/"
        },
        "id": "P7eOqeZJmhAQ",
        "outputId": "017b245a-472e-494b-f4bf-e9d683f5a12c"
      },
      "execution_count": 19,
      "outputs": [
        {
          "output_type": "stream",
          "name": "stdout",
          "text": [
            "\u001b[1m6/6\u001b[0m \u001b[32m━━━━━━━━━━━━━━━━━━━━\u001b[0m\u001b[37m\u001b[0m \u001b[1m0s\u001b[0m 12ms/step - accuracy: 0.9695 - loss: 0.2045 - precision: 0.9695 - recall: 0.9695\n",
            "Accuracy: 0.973, Precision: 0.973, Recall: 0.973\n"
          ]
        }
      ]
    },
    {
      "cell_type": "code",
      "source": [
        "plt.plot(history.history['accuracy'], label='Train Accuracy')\n",
        "plt.plot(history.history['val_accuracy'], label='Validation Accuracy')\n",
        "plt.title(\"Model Accuracy\")\n",
        "plt.xlabel(\"Epochs\")\n",
        "plt.ylabel(\"Accuracy\")\n",
        "plt.legend()\n",
        "plt.show()"
      ],
      "metadata": {
        "colab": {
          "base_uri": "https://localhost:8080/",
          "height": 472
        },
        "id": "lFVYHiV9niFg",
        "outputId": "80b3d9fa-615a-450d-a89b-1af44a4162c4"
      },
      "execution_count": 20,
      "outputs": [
        {
          "output_type": "display_data",
          "data": {
            "text/plain": [
              "<Figure size 640x480 with 1 Axes>"
            ],
            "image/png": "[encoded data removed]"
          },
          "metadata": {}
        }
      ]
    },
    {
      "cell_type": "code",
      "source": [],
      "metadata": {
        "id": "FcUg9RgmnpWv"
      },
      "execution_count": null,
      "outputs": []
    }
  ]
}