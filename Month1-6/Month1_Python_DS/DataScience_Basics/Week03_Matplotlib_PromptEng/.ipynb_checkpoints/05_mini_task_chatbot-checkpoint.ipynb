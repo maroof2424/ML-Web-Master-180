{
 "cells": [
  {
   "cell_type": "code",
   "execution_count": 1,
   "id": "83246b7e-67e0-4321-85fb-62d59106f8bd",
   "metadata": {},
   "outputs": [],
   "source": [
    "import random"
   ]
  },
  {
   "cell_type": "code",
   "execution_count": 2,
   "id": "f08990e5-d5e2-4dea-a2c5-eca5a4eea43e",
   "metadata": {},
   "outputs": [],
   "source": [
    "role_prompt = \"You are a friendly trivia game host. Ask the player fun and challenging questions.\""
   ]
  },
  {
   "cell_type": "code",
   "execution_count": 3,
   "id": "1a64feec-61be-4b4b-af7a-bfafd551960d",
   "metadata": {},
   "outputs": [],
   "source": [
    "few_shot_prompt = \"\"\"\n",
    "You are a trivia quiz master. Use the following examples to guide your style:\n",
    "\n",
    "Q: What is the capital of France?\n",
    "A: Paris\n",
    "\n",
    "Q: Who wrote 'Romeo and Juliet'?\n",
    "A: William Shakespeare\n",
    "\n",
    "Now, create 1 trivia question and answer.\n",
    "\"\"\""
   ]
  },
  {
   "cell_type": "code",
   "execution_count": 4,
   "id": "6cd8b7d0-f0b6-4558-a74c-b8ba1692e081",
   "metadata": {},
   "outputs": [],
   "source": [
    "trivia_data = [\n",
    "    {\"question\": \"What is the largest planet in our solar system?\", \"answer\": \"Jupiter\"},\n",
    "    {\"question\": \"Which element has the chemical symbol 'O'?\", \"answer\": \"Oxygen\"},\n",
    "    {\"question\": \"In what year did World War II end?\", \"answer\": \"1945\"},\n",
    "    {\"question\": \"Who painted the Mona Lisa?\", \"answer\": \"Leonardo da Vinci\"},\n",
    "    {\"question\": \"What is the square root of 81?\", \"answer\": \"9\"},\n",
    "]"
   ]
  },
  {
   "cell_type": "code",
   "execution_count": 5,
   "id": "3600f923-23f0-4d5e-b04f-eadbf8a948bc",
   "metadata": {},
   "outputs": [],
   "source": [
    "def trivia_game():\n",
    "    print(\"\\n🎯 Welcome to the Prompt-based Trivia Game!\")\n",
    "    print(role_prompt)\n",
    "    print(\"-\" * 40)\n",
    "\n",
    "    score = 0\n",
    "    questions = random.sample(trivia_data, 3)  # pick 3 random questions\n",
    "\n",
    "    for idx, q in enumerate(questions, start=1):\n",
    "        print(f\"\\nQ{idx}: {q['question']}\")\n",
    "        user_answer = input(\"Your answer: \").strip()\n",
    "\n",
    "        if user_answer.lower() == q[\"answer\"].lower():\n",
    "            print(\"✅ Correct!\")\n",
    "            score += 1\n",
    "        else:\n",
    "            print(f\"❌ Wrong! The correct answer was: {q['answer']}\")\n",
    "\n",
    "    print(\"\\n🏆 Game Over! Your Score:\", score)"
   ]
  },
  {
   "cell_type": "code",
   "execution_count": null,
   "id": "5d6b6f37-4659-4e0e-b2bd-7d433ad25e8e",
   "metadata": {},
   "outputs": [
    {
     "name": "stdout",
     "output_type": "stream",
     "text": [
      "\n",
      "🎯 Welcome to the Prompt-based Trivia Game!\n",
      "You are a friendly trivia game host. Ask the player fun and challenging questions.\n",
      "----------------------------------------\n",
      "\n",
      "Q1: Who painted the Mona Lisa?\n"
     ]
    },
    {
     "name": "stdin",
     "output_type": "stream",
     "text": [
      "Your answer:  Leonardo da Vinci\n"
     ]
    },
    {
     "name": "stdout",
     "output_type": "stream",
     "text": [
      "✅ Correct!\n",
      "\n",
      "Q2: Which element has the chemical symbol 'O'?\n"
     ]
    }
   ],
   "source": [
    "if __name__ == \"__main__\":\n",
    "    trivia_game()"
   ]
  },
  {
   "cell_type": "code",
   "execution_count": null,
   "id": "daea8ed7-665a-45f4-a587-a33ed8fa1bc6",
   "metadata": {},
   "outputs": [],
   "source": []
  }
 ],
 "metadata": {
  "kernelspec": {
   "display_name": "Python 3 (ipykernel)",
   "language": "python",
   "name": "python3"
  },
  "language_info": {
   "codemirror_mode": {
    "name": "ipython",
    "version": 3
   },
   "file_extension": ".py",
   "mimetype": "text/x-python",
   "name": "python",
   "nbconvert_exporter": "python",
   "pygments_lexer": "ipython3",
   "version": "3.13.6"
  }
 },
 "nbformat": 4,
 "nbformat_minor": 5
}
