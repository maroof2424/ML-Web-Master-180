{
 "cells": [
  {
   "cell_type": "markdown",
   "id": "4432601a",
   "metadata": {},
   "source": [
    "# 03 Pandas Advanced"
   ]
  }
 ],
 "metadata": {},
 "nbformat": 4,
 "nbformat_minor": 5
}
