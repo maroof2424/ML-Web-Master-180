{
 "cells": [
  {
   "cell_type": "code",
   "execution_count": 1,
   "id": "9d53bd26",
   "metadata": {
    "_cell_guid": "b1076dfc-b9ad-4769-8c92-a6c4dae69d19",
    "_uuid": "8f2839f25d086af736a60e9eeb907d3b93b6e0e5",
    "execution": {
     "iopub.execute_input": "2025-08-07T11:12:44.188904Z",
     "iopub.status.busy": "2025-08-07T11:12:44.188588Z",
     "iopub.status.idle": "2025-08-07T11:12:46.292411Z",
     "shell.execute_reply": "2025-08-07T11:12:46.290632Z"
    },
    "papermill": {
     "duration": 2.110465,
     "end_time": "2025-08-07T11:12:46.294543",
     "exception": false,
     "start_time": "2025-08-07T11:12:44.184078",
     "status": "completed"
    },
    "tags": []
   },
   "outputs": [],
   "source": [
    "import numpy as np\n",
    "import pandas as pd"
   ]
  },
  {
   "cell_type": "code",
   "execution_count": 2,
   "id": "950dccdc",
   "metadata": {
    "execution": {
     "iopub.execute_input": "2025-08-07T11:12:46.304647Z",
     "iopub.status.busy": "2025-08-07T11:12:46.304219Z",
     "iopub.status.idle": "2025-08-07T11:12:46.430606Z",
     "shell.execute_reply": "2025-08-07T11:12:46.429575Z"
    },
    "papermill": {
     "duration": 0.133839,
     "end_time": "2025-08-07T11:12:46.432985",
     "exception": false,
     "start_time": "2025-08-07T11:12:46.299146",
     "status": "completed"
    },
    "tags": []
   },
   "outputs": [],
   "source": [
    "df = pd.read_csv(\"/kaggle/input/netflix/NetFlix.csv\")"
   ]
  },
  {
   "cell_type": "code",
   "execution_count": 3,
   "id": "614600d4",
   "metadata": {
    "execution": {
     "iopub.execute_input": "2025-08-07T11:12:46.443575Z",
     "iopub.status.busy": "2025-08-07T11:12:46.443230Z",
     "iopub.status.idle": "2025-08-07T11:12:46.476058Z",
     "shell.execute_reply": "2025-08-07T11:12:46.474818Z"
    },
    "papermill": {
     "duration": 0.039891,
     "end_time": "2025-08-07T11:12:46.477816",
     "exception": false,
     "start_time": "2025-08-07T11:12:46.437925",
     "status": "completed"
    },
    "tags": []
   },
   "outputs": [
    {
     "data": {
      "text/html": [
       "<div>\n",
       "<style scoped>\n",
       "    .dataframe tbody tr th:only-of-type {\n",
       "        vertical-align: middle;\n",
       "    }\n",
       "\n",
       "    .dataframe tbody tr th {\n",
       "        vertical-align: top;\n",
       "    }\n",
       "\n",
       "    .dataframe thead th {\n",
       "        text-align: right;\n",
       "    }\n",
       "</style>\n",
       "<table border=\"1\" class=\"dataframe\">\n",
       "  <thead>\n",
       "    <tr style=\"text-align: right;\">\n",
       "      <th></th>\n",
       "      <th>show_id</th>\n",
       "      <th>type</th>\n",
       "      <th>title</th>\n",
       "      <th>director</th>\n",
       "      <th>cast</th>\n",
       "      <th>country</th>\n",
       "      <th>date_added</th>\n",
       "      <th>release_year</th>\n",
       "      <th>rating</th>\n",
       "      <th>duration</th>\n",
       "      <th>genres</th>\n",
       "      <th>description</th>\n",
       "    </tr>\n",
       "  </thead>\n",
       "  <tbody>\n",
       "    <tr>\n",
       "      <th>0</th>\n",
       "      <td>s1</td>\n",
       "      <td>TV Show</td>\n",
       "      <td>3%</td>\n",
       "      <td>NaN</td>\n",
       "      <td>João Miguel, Bianca Comparato, Michel Gomes, R...</td>\n",
       "      <td>Brazil</td>\n",
       "      <td>14-Aug-20</td>\n",
       "      <td>2020</td>\n",
       "      <td>TV-MA</td>\n",
       "      <td>4</td>\n",
       "      <td>International TV Shows, TV Dramas, TV Sci-Fi &amp;...</td>\n",
       "      <td>In a future where the elite inhabit an island ...</td>\n",
       "    </tr>\n",
       "    <tr>\n",
       "      <th>1</th>\n",
       "      <td>s10</td>\n",
       "      <td>Movie</td>\n",
       "      <td>1920</td>\n",
       "      <td>Vikram Bhatt</td>\n",
       "      <td>Rajneesh Duggal, Adah Sharma, Indraneil Sengup...</td>\n",
       "      <td>India</td>\n",
       "      <td>15-Dec-17</td>\n",
       "      <td>2008</td>\n",
       "      <td>TV-MA</td>\n",
       "      <td>143</td>\n",
       "      <td>Horror Movies, International Movies, Thrillers</td>\n",
       "      <td>An architect and his wife move into a castle t...</td>\n",
       "    </tr>\n",
       "    <tr>\n",
       "      <th>2</th>\n",
       "      <td>s100</td>\n",
       "      <td>Movie</td>\n",
       "      <td>3 Heroines</td>\n",
       "      <td>Iman Brotoseno</td>\n",
       "      <td>Reza Rahadian, Bunga Citra Lestari, Tara Basro...</td>\n",
       "      <td>Indonesia</td>\n",
       "      <td>5-Jan-19</td>\n",
       "      <td>2016</td>\n",
       "      <td>TV-PG</td>\n",
       "      <td>124</td>\n",
       "      <td>Dramas, International Movies, Sports Movies</td>\n",
       "      <td>Three Indonesian women break records by becomi...</td>\n",
       "    </tr>\n",
       "    <tr>\n",
       "      <th>3</th>\n",
       "      <td>s1000</td>\n",
       "      <td>Movie</td>\n",
       "      <td>Blue Mountain State: The Rise of Thadland</td>\n",
       "      <td>Lev L. Spiro</td>\n",
       "      <td>Alan Ritchson, Darin Brooks, James Cade, Rob R...</td>\n",
       "      <td>United States</td>\n",
       "      <td>1-Mar-16</td>\n",
       "      <td>2016</td>\n",
       "      <td>R</td>\n",
       "      <td>90</td>\n",
       "      <td>Comedies</td>\n",
       "      <td>New NFL star Thad buys his old teammates' belo...</td>\n",
       "    </tr>\n",
       "    <tr>\n",
       "      <th>4</th>\n",
       "      <td>s1001</td>\n",
       "      <td>TV Show</td>\n",
       "      <td>Blue Planet II</td>\n",
       "      <td>NaN</td>\n",
       "      <td>David Attenborough</td>\n",
       "      <td>United Kingdom</td>\n",
       "      <td>3-Dec-18</td>\n",
       "      <td>2017</td>\n",
       "      <td>TV-G</td>\n",
       "      <td>1</td>\n",
       "      <td>British TV Shows, Docuseries, Science &amp; Nature TV</td>\n",
       "      <td>This sequel to the award-winning nature series...</td>\n",
       "    </tr>\n",
       "  </tbody>\n",
       "</table>\n",
       "</div>"
      ],
      "text/plain": [
       "  show_id     type                                      title        director  \\\n",
       "0      s1  TV Show                                         3%             NaN   \n",
       "1     s10    Movie                                       1920    Vikram Bhatt   \n",
       "2    s100    Movie                                 3 Heroines  Iman Brotoseno   \n",
       "3   s1000    Movie  Blue Mountain State: The Rise of Thadland    Lev L. Spiro   \n",
       "4   s1001  TV Show                             Blue Planet II             NaN   \n",
       "\n",
       "                                                cast         country  \\\n",
       "0  João Miguel, Bianca Comparato, Michel Gomes, R...          Brazil   \n",
       "1  Rajneesh Duggal, Adah Sharma, Indraneil Sengup...           India   \n",
       "2  Reza Rahadian, Bunga Citra Lestari, Tara Basro...       Indonesia   \n",
       "3  Alan Ritchson, Darin Brooks, James Cade, Rob R...   United States   \n",
       "4                                 David Attenborough  United Kingdom   \n",
       "\n",
       "  date_added  release_year rating  duration  \\\n",
       "0  14-Aug-20          2020  TV-MA         4   \n",
       "1  15-Dec-17          2008  TV-MA       143   \n",
       "2   5-Jan-19          2016  TV-PG       124   \n",
       "3   1-Mar-16          2016      R        90   \n",
       "4   3-Dec-18          2017   TV-G         1   \n",
       "\n",
       "                                              genres  \\\n",
       "0  International TV Shows, TV Dramas, TV Sci-Fi &...   \n",
       "1     Horror Movies, International Movies, Thrillers   \n",
       "2        Dramas, International Movies, Sports Movies   \n",
       "3                                           Comedies   \n",
       "4  British TV Shows, Docuseries, Science & Nature TV   \n",
       "\n",
       "                                         description  \n",
       "0  In a future where the elite inhabit an island ...  \n",
       "1  An architect and his wife move into a castle t...  \n",
       "2  Three Indonesian women break records by becomi...  \n",
       "3  New NFL star Thad buys his old teammates' belo...  \n",
       "4  This sequel to the award-winning nature series...  "
      ]
     },
     "execution_count": 3,
     "metadata": {},
     "output_type": "execute_result"
    }
   ],
   "source": [
    "df.head()"
   ]
  },
  {
   "cell_type": "code",
   "execution_count": 4,
   "id": "54ce5bb3",
   "metadata": {
    "execution": {
     "iopub.execute_input": "2025-08-07T11:12:46.485432Z",
     "iopub.status.busy": "2025-08-07T11:12:46.485093Z",
     "iopub.status.idle": "2025-08-07T11:12:46.500530Z",
     "shell.execute_reply": "2025-08-07T11:12:46.499472Z"
    },
    "papermill": {
     "duration": 0.021017,
     "end_time": "2025-08-07T11:12:46.502086",
     "exception": false,
     "start_time": "2025-08-07T11:12:46.481069",
     "status": "completed"
    },
    "tags": []
   },
   "outputs": [
    {
     "data": {
      "text/plain": [
       "<bound method DataFrame.info of      show_id     type                                      title  \\\n",
       "0         s1  TV Show                                         3%   \n",
       "1        s10    Movie                                       1920   \n",
       "2       s100    Movie                                 3 Heroines   \n",
       "3      s1000    Movie  Blue Mountain State: The Rise of Thadland   \n",
       "4      s1001  TV Show                             Blue Planet II   \n",
       "...      ...      ...                                        ...   \n",
       "7782    s995  TV Show                                 Blown Away   \n",
       "7783    s996  TV Show                              Blue Exorcist   \n",
       "7784    s997    Movie                  Blue Is the Warmest Color   \n",
       "7785    s998    Movie                               Blue Jasmine   \n",
       "7786    s999    Movie                                   Blue Jay   \n",
       "\n",
       "                 director                                               cast  \\\n",
       "0                     NaN  João Miguel, Bianca Comparato, Michel Gomes, R...   \n",
       "1            Vikram Bhatt  Rajneesh Duggal, Adah Sharma, Indraneil Sengup...   \n",
       "2          Iman Brotoseno  Reza Rahadian, Bunga Citra Lestari, Tara Basro...   \n",
       "3            Lev L. Spiro  Alan Ritchson, Darin Brooks, James Cade, Rob R...   \n",
       "4                     NaN                                 David Attenborough   \n",
       "...                   ...                                                ...   \n",
       "7782                  NaN                                                NaN   \n",
       "7783                  NaN  Nobuhiko Okamoto, Jun Fukuyama, Kana Hanazawa,...   \n",
       "7784  Abdellatif Kechiche  Léa Seydoux, Adèle Exarchopoulos, Salim Kechio...   \n",
       "7785          Woody Allen  Cate Blanchett, Sally Hawkins, Alec Baldwin, L...   \n",
       "7786         Alex Lehmann           Sarah Paulson, Mark Duplass, Clu Gulager   \n",
       "\n",
       "                     country date_added  release_year rating  duration  \\\n",
       "0                     Brazil  14-Aug-20          2020  TV-MA         4   \n",
       "1                      India  15-Dec-17          2008  TV-MA       143   \n",
       "2                  Indonesia   5-Jan-19          2016  TV-PG       124   \n",
       "3              United States   1-Mar-16          2016      R        90   \n",
       "4             United Kingdom   3-Dec-18          2017   TV-G         1   \n",
       "...                      ...        ...           ...    ...       ...   \n",
       "7782                  Canada  12-Jul-19          2019  TV-14         1   \n",
       "7783                   Japan   1-Sep-20          2017  TV-MA         2   \n",
       "7784  France, Belgium, Spain  26-Aug-16          2013  NC-17       180   \n",
       "7785           United States   8-Mar-19          2013  PG-13        98   \n",
       "7786           United States   6-Dec-16          2016  TV-MA        81   \n",
       "\n",
       "                                                 genres  \\\n",
       "0     International TV Shows, TV Dramas, TV Sci-Fi &...   \n",
       "1        Horror Movies, International Movies, Thrillers   \n",
       "2           Dramas, International Movies, Sports Movies   \n",
       "3                                              Comedies   \n",
       "4     British TV Shows, Docuseries, Science & Nature TV   \n",
       "...                                                 ...   \n",
       "7782                 International TV Shows, Reality TV   \n",
       "7783               Anime Series, International TV Shows   \n",
       "7784   Dramas, Independent Movies, International Movies   \n",
       "7785               Comedies, Dramas, Independent Movies   \n",
       "7786        Dramas, Independent Movies, Romantic Movies   \n",
       "\n",
       "                                            description  \n",
       "0     In a future where the elite inhabit an island ...  \n",
       "1     An architect and his wife move into a castle t...  \n",
       "2     Three Indonesian women break records by becomi...  \n",
       "3     New NFL star Thad buys his old teammates' belo...  \n",
       "4     This sequel to the award-winning nature series...  \n",
       "...                                                 ...  \n",
       "7782  Ten master artists turn up the heat in glassbl...  \n",
       "7783  Determined to throw off the curse of being Sat...  \n",
       "7784  Determined to fall in love, 15-year-old Adele ...  \n",
       "7785  The high life leads to high anxiety for a fash...  \n",
       "7786  Two former high school sweethearts unexpectedl...  \n",
       "\n",
       "[7787 rows x 12 columns]>"
      ]
     },
     "execution_count": 4,
     "metadata": {},
     "output_type": "execute_result"
    }
   ],
   "source": [
    "df.info"
   ]
  },
  {
   "cell_type": "code",
   "execution_count": 5,
   "id": "22770b2f",
   "metadata": {
    "execution": {
     "iopub.execute_input": "2025-08-07T11:12:46.509639Z",
     "iopub.status.busy": "2025-08-07T11:12:46.509363Z",
     "iopub.status.idle": "2025-08-07T11:12:46.519975Z",
     "shell.execute_reply": "2025-08-07T11:12:46.518805Z"
    },
    "papermill": {
     "duration": 0.016365,
     "end_time": "2025-08-07T11:12:46.521684",
     "exception": false,
     "start_time": "2025-08-07T11:12:46.505319",
     "status": "completed"
    },
    "tags": []
   },
   "outputs": [
    {
     "data": {
      "text/plain": [
       "<bound method NDFrame.describe of      show_id     type                                      title  \\\n",
       "0         s1  TV Show                                         3%   \n",
       "1        s10    Movie                                       1920   \n",
       "2       s100    Movie                                 3 Heroines   \n",
       "3      s1000    Movie  Blue Mountain State: The Rise of Thadland   \n",
       "4      s1001  TV Show                             Blue Planet II   \n",
       "...      ...      ...                                        ...   \n",
       "7782    s995  TV Show                                 Blown Away   \n",
       "7783    s996  TV Show                              Blue Exorcist   \n",
       "7784    s997    Movie                  Blue Is the Warmest Color   \n",
       "7785    s998    Movie                               Blue Jasmine   \n",
       "7786    s999    Movie                                   Blue Jay   \n",
       "\n",
       "                 director                                               cast  \\\n",
       "0                     NaN  João Miguel, Bianca Comparato, Michel Gomes, R...   \n",
       "1            Vikram Bhatt  Rajneesh Duggal, Adah Sharma, Indraneil Sengup...   \n",
       "2          Iman Brotoseno  Reza Rahadian, Bunga Citra Lestari, Tara Basro...   \n",
       "3            Lev L. Spiro  Alan Ritchson, Darin Brooks, James Cade, Rob R...   \n",
       "4                     NaN                                 David Attenborough   \n",
       "...                   ...                                                ...   \n",
       "7782                  NaN                                                NaN   \n",
       "7783                  NaN  Nobuhiko Okamoto, Jun Fukuyama, Kana Hanazawa,...   \n",
       "7784  Abdellatif Kechiche  Léa Seydoux, Adèle Exarchopoulos, Salim Kechio...   \n",
       "7785          Woody Allen  Cate Blanchett, Sally Hawkins, Alec Baldwin, L...   \n",
       "7786         Alex Lehmann           Sarah Paulson, Mark Duplass, Clu Gulager   \n",
       "\n",
       "                     country date_added  release_year rating  duration  \\\n",
       "0                     Brazil  14-Aug-20          2020  TV-MA         4   \n",
       "1                      India  15-Dec-17          2008  TV-MA       143   \n",
       "2                  Indonesia   5-Jan-19          2016  TV-PG       124   \n",
       "3              United States   1-Mar-16          2016      R        90   \n",
       "4             United Kingdom   3-Dec-18          2017   TV-G         1   \n",
       "...                      ...        ...           ...    ...       ...   \n",
       "7782                  Canada  12-Jul-19          2019  TV-14         1   \n",
       "7783                   Japan   1-Sep-20          2017  TV-MA         2   \n",
       "7784  France, Belgium, Spain  26-Aug-16          2013  NC-17       180   \n",
       "7785           United States   8-Mar-19          2013  PG-13        98   \n",
       "7786           United States   6-Dec-16          2016  TV-MA        81   \n",
       "\n",
       "                                                 genres  \\\n",
       "0     International TV Shows, TV Dramas, TV Sci-Fi &...   \n",
       "1        Horror Movies, International Movies, Thrillers   \n",
       "2           Dramas, International Movies, Sports Movies   \n",
       "3                                              Comedies   \n",
       "4     British TV Shows, Docuseries, Science & Nature TV   \n",
       "...                                                 ...   \n",
       "7782                 International TV Shows, Reality TV   \n",
       "7783               Anime Series, International TV Shows   \n",
       "7784   Dramas, Independent Movies, International Movies   \n",
       "7785               Comedies, Dramas, Independent Movies   \n",
       "7786        Dramas, Independent Movies, Romantic Movies   \n",
       "\n",
       "                                            description  \n",
       "0     In a future where the elite inhabit an island ...  \n",
       "1     An architect and his wife move into a castle t...  \n",
       "2     Three Indonesian women break records by becomi...  \n",
       "3     New NFL star Thad buys his old teammates' belo...  \n",
       "4     This sequel to the award-winning nature series...  \n",
       "...                                                 ...  \n",
       "7782  Ten master artists turn up the heat in glassbl...  \n",
       "7783  Determined to throw off the curse of being Sat...  \n",
       "7784  Determined to fall in love, 15-year-old Adele ...  \n",
       "7785  The high life leads to high anxiety for a fash...  \n",
       "7786  Two former high school sweethearts unexpectedl...  \n",
       "\n",
       "[7787 rows x 12 columns]>"
      ]
     },
     "execution_count": 5,
     "metadata": {},
     "output_type": "execute_result"
    }
   ],
   "source": [
    "df.describe"
   ]
  },
  {
   "cell_type": "code",
   "execution_count": 6,
   "id": "71b5a069",
   "metadata": {
    "execution": {
     "iopub.execute_input": "2025-08-07T11:12:46.529533Z",
     "iopub.status.busy": "2025-08-07T11:12:46.529269Z",
     "iopub.status.idle": "2025-08-07T11:12:46.543864Z",
     "shell.execute_reply": "2025-08-07T11:12:46.542721Z"
    },
    "papermill": {
     "duration": 0.020681,
     "end_time": "2025-08-07T11:12:46.545856",
     "exception": false,
     "start_time": "2025-08-07T11:12:46.525175",
     "status": "completed"
    },
    "tags": []
   },
   "outputs": [
    {
     "name": "stdout",
     "output_type": "stream",
     "text": [
      "show_id            0\n",
      "type               0\n",
      "title              0\n",
      "director        2389\n",
      "cast             718\n",
      "country          507\n",
      "date_added        10\n",
      "release_year       0\n",
      "rating             7\n",
      "duration           0\n",
      "genres             0\n",
      "description        0\n",
      "dtype: int64\n",
      "show_id         object\n",
      "type            object\n",
      "title           object\n",
      "director        object\n",
      "cast            object\n",
      "country         object\n",
      "date_added      object\n",
      "release_year     int64\n",
      "rating          object\n",
      "duration         int64\n",
      "genres          object\n",
      "description     object\n",
      "dtype: object\n"
     ]
    }
   ],
   "source": [
    "print(df.isnull().sum())\n",
    "print(df.dtypes)"
   ]
  },
  {
   "cell_type": "code",
   "execution_count": 7,
   "id": "84c7fe41",
   "metadata": {
    "execution": {
     "iopub.execute_input": "2025-08-07T11:12:46.554260Z",
     "iopub.status.busy": "2025-08-07T11:12:46.553965Z",
     "iopub.status.idle": "2025-08-07T11:12:46.561078Z",
     "shell.execute_reply": "2025-08-07T11:12:46.560244Z"
    },
    "papermill": {
     "duration": 0.013033,
     "end_time": "2025-08-07T11:12:46.562695",
     "exception": false,
     "start_time": "2025-08-07T11:12:46.549662",
     "status": "completed"
    },
    "tags": []
   },
   "outputs": [
    {
     "data": {
      "text/plain": [
       "Index(['show_id', 'type', 'title', 'director', 'cast', 'country', 'date_added',\n",
       "       'release_year', 'rating', 'duration', 'genres', 'description'],\n",
       "      dtype='object')"
      ]
     },
     "execution_count": 7,
     "metadata": {},
     "output_type": "execute_result"
    }
   ],
   "source": [
    "df.columns"
   ]
  },
  {
   "cell_type": "code",
   "execution_count": 8,
   "id": "41d2808a",
   "metadata": {
    "execution": {
     "iopub.execute_input": "2025-08-07T11:12:46.570892Z",
     "iopub.status.busy": "2025-08-07T11:12:46.570590Z",
     "iopub.status.idle": "2025-08-07T11:12:46.661157Z",
     "shell.execute_reply": "2025-08-07T11:12:46.659927Z"
    },
    "papermill": {
     "duration": 0.096539,
     "end_time": "2025-08-07T11:12:46.662835",
     "exception": true,
     "start_time": "2025-08-07T11:12:46.566296",
     "status": "failed"
    },
    "tags": []
   },
   "outputs": [
    {
     "ename": "NameError",
     "evalue": "name 'df_' is not defined",
     "output_type": "error",
     "traceback": [
      "\u001b[0;31m---------------------------------------------------------------------------\u001b[0m",
      "\u001b[0;31mNameError\u001b[0m                                 Traceback (most recent call last)",
      "\u001b[0;32m/tmp/ipykernel_13/2843051901.py\u001b[0m in \u001b[0;36m<cell line: 0>\u001b[0;34m()\u001b[0m\n\u001b[1;32m      1\u001b[0m \u001b[0;32mfor\u001b[0m \u001b[0mcolumn\u001b[0m \u001b[0;32min\u001b[0m \u001b[0mdf\u001b[0m\u001b[0;34m.\u001b[0m\u001b[0mcolumns\u001b[0m\u001b[0;34m:\u001b[0m\u001b[0;34m\u001b[0m\u001b[0;34m\u001b[0m\u001b[0m\n\u001b[1;32m      2\u001b[0m     \u001b[0mcol_size\u001b[0m \u001b[0;34m=\u001b[0m \u001b[0mdf\u001b[0m\u001b[0;34m[\u001b[0m\u001b[0mcolumn\u001b[0m\u001b[0;34m]\u001b[0m\u001b[0;34m.\u001b[0m\u001b[0msize\u001b[0m\u001b[0;34m\u001b[0m\u001b[0;34m\u001b[0m\u001b[0m\n\u001b[0;32m----> 3\u001b[0;31m     \u001b[0mdf_\u001b[0m\u001b[0;34m\u001b[0m\u001b[0;34m\u001b[0m\u001b[0m\n\u001b[0m\u001b[1;32m      4\u001b[0m     \u001b[0mprint\u001b[0m\u001b[0;34m(\u001b[0m\u001b[0;34mf\"{column}: {col_size}\"\u001b[0m\u001b[0;34m)\u001b[0m\u001b[0;34m\u001b[0m\u001b[0;34m\u001b[0m\u001b[0m\n",
      "\u001b[0;31mNameError\u001b[0m: name 'df_' is not defined"
     ]
    }
   ],
   "source": [
    "for column in df.columns:\n",
    "    col_size = df[column].size\n",
    "    df_\n",
    "    print(f\"{column}: {col_size}\")"
   ]
  },
  {
   "cell_type": "code",
   "execution_count": null,
   "id": "e54b2291",
   "metadata": {
    "execution": {
     "iopub.execute_input": "2025-08-07T11:09:15.025801Z",
     "iopub.status.busy": "2025-08-07T11:09:15.025492Z",
     "iopub.status.idle": "2025-08-07T11:09:15.045651Z",
     "shell.execute_reply": "2025-08-07T11:09:15.044702Z",
     "shell.execute_reply.started": "2025-08-07T11:09:15.025775Z"
    },
    "papermill": {
     "duration": null,
     "end_time": null,
     "exception": null,
     "start_time": null,
     "status": "pending"
    },
    "tags": []
   },
   "outputs": [],
   "source": [
    "df['date_added'] = pd.to_datetime(df['date_added'], format='%B %d, %Y', errors='coerce')"
   ]
  },
  {
   "cell_type": "code",
   "execution_count": null,
   "id": "7888787f",
   "metadata": {
    "execution": {
     "iopub.execute_input": "2025-08-07T11:11:45.794160Z",
     "iopub.status.busy": "2025-08-07T11:11:45.793780Z",
     "iopub.status.idle": "2025-08-07T11:11:45.807745Z",
     "shell.execute_reply": "2025-08-07T11:11:45.806911Z",
     "shell.execute_reply.started": "2025-08-07T11:11:45.794132Z"
    },
    "papermill": {
     "duration": null,
     "end_time": null,
     "exception": null,
     "start_time": null,
     "status": "pending"
    },
    "tags": []
   },
   "outputs": [],
   "source": [
    "df[\"director\"] = df[\"director\"].fillna(\"Unknown\")\n",
    "df[\"cast\"] = df[\"cast\"].fillna(\"Unknown\")\n",
    "df[\"country\"] = df[\"country\"].fillna(\"Unknown\")\n",
    "df[\"rating\"] = df[\"rating\"].fillna(\"Not Rated\")"
   ]
  },
  {
   "cell_type": "code",
   "execution_count": null,
   "id": "fb688fb4",
   "metadata": {
    "execution": {
     "iopub.execute_input": "2025-08-07T11:12:01.546067Z",
     "iopub.status.busy": "2025-08-07T11:12:01.545419Z",
     "iopub.status.idle": "2025-08-07T11:12:01.561511Z",
     "shell.execute_reply": "2025-08-07T11:12:01.559994Z",
     "shell.execute_reply.started": "2025-08-07T11:12:01.546017Z"
    },
    "papermill": {
     "duration": null,
     "end_time": null,
     "exception": null,
     "start_time": null,
     "status": "pending"
    },
    "tags": []
   },
   "outputs": [],
   "source": [
    "df.head()"
   ]
  },
  {
   "cell_type": "code",
   "execution_count": null,
   "id": "1949447f",
   "metadata": {
    "papermill": {
     "duration": null,
     "end_time": null,
     "exception": null,
     "start_time": null,
     "status": "pending"
    },
    "tags": []
   },
   "outputs": [],
   "source": [
    "import matplotlib"
   ]
  }
 ],
 "metadata": {
  "kaggle": {
   "accelerator": "none",
   "dataSources": [
    {
     "datasetId": 3956899,
     "sourceId": 6888135,
     "sourceType": "datasetVersion"
    }
   ],
   "dockerImageVersionId": 31089,
   "isGpuEnabled": false,
   "isInternetEnabled": true,
   "language": "python",
   "sourceType": "notebook"
  },
  "kernelspec": {
   "display_name": "Python 3",
   "language": "python",
   "name": "python3"
  },
  "language_info": {
   "codemirror_mode": {
    "name": "ipython",
    "version": 3
   },
   "file_extension": ".py",
   "mimetype": "text/x-python",
   "name": "python",
   "nbconvert_exporter": "python",
   "pygments_lexer": "ipython3",
   "version": "3.11.13"
  },
  "papermill": {
   "default_parameters": {},
   "duration": 8.349419,
   "end_time": "2025-08-07T11:12:47.188744",
   "environment_variables": {},
   "exception": true,
   "input_path": "__notebook__.ipynb",
   "output_path": "__notebook__.ipynb",
   "parameters": {},
   "start_time": "2025-08-07T11:12:38.839325",
   "version": "2.6.0"
  }
 },
 "nbformat": 4,
 "nbformat_minor": 5
}
