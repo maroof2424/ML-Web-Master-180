{
 "cells": [
  {
   "cell_type": "markdown",
   "id": "8c8c7722",
   "metadata": {},
   "source": [
    "# 05 Mini Project"
   ]
  }
 ],
 "metadata": {},
 "nbformat": 4,
 "nbformat_minor": 5
}
