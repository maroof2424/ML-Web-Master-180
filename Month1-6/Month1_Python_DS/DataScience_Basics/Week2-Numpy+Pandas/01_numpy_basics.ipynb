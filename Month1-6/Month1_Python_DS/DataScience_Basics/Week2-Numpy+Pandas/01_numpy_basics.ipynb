{
 "cells": [
  {
   "cell_type": "markdown",
   "id": "b3d98551",
   "metadata": {},
   "source": [
    "# ✅ Day 1: NumPy Basics\n",
    "\n",
    "This notebook covers the basics of NumPy including array creation, slicing, vectorized operations, aggregate functions, and reshaping."
   ]
  },
  {
   "cell_type": "markdown",
   "id": "4448ac6c",
   "metadata": {},
   "source": [
    "## 1. Creating 1D, 2D, and 3D Arrays"
   ]
  },
  {
   "cell_type": "code",
   "execution_count": null,
   "id": "fae67e9a",
   "metadata": {},
   "outputs": [],
   "source": [
    "import numpy as np\n",
    "\n",
    "# 1D array\n",
    "a = np.array([1, 2, 3])\n",
    "print(\"1D array:\", a)\n",
    "\n",
    "# 2D array\n",
    "b = np.array([[1, 2, 3], [4, 5, 6]])\n",
    "print(\"2D array:\\n\", b)\n",
    "\n",
    "# 3D array\n",
    "c = np.array([[[1, 2], [3, 4]], [[5, 6], [7, 8]]])\n",
    "print(\"3D array:\\n\", c)"
   ]
  },
  {
   "cell_type": "markdown",
   "id": "cb35ec37",
   "metadata": {},
   "source": [
    "## 2. Array Indexing and Slicing"
   ]
  },
  {
   "cell_type": "code",
   "execution_count": null,
   "id": "8ef0d68a",
   "metadata": {},
   "outputs": [],
   "source": [
    "# Slicing 1D\n",
    "print(\"a[1:]:\", a[1:])\n",
    "\n",
    "# Slicing 2D\n",
    "print(\"b[0, 1]:\", b[0, 1])\n",
    "print(\"b[:, 1]:\", b[:, 1])"
   ]
  },
  {
   "cell_type": "markdown",
   "id": "d88773a6",
   "metadata": {},
   "source": [
    "## 3. Vectorized Operations and Broadcasting"
   ]
  },
  {
   "cell_type": "code",
   "execution_count": null,
   "id": "3d89d993",
   "metadata": {},
   "outputs": [],
   "source": [
    "x = np.array([1, 2, 3])\n",
    "y = np.array([10, 20, 30])\n",
    "\n",
    "# Addition\n",
    "print(\"x + y =\", x + y)\n",
    "\n",
    "# Multiplication\n",
    "print(\"x * 2 =\", x * 2)\n",
    "\n",
    "# Broadcasting\n",
    "m = np.array([[1], [2], [3]])\n",
    "n = np.array([10, 20, 30])\n",
    "print(\"Broadcasted multiplication:\\n\", m * n)"
   ]
  },
  {
   "cell_type": "markdown",
   "id": "870edcfc",
   "metadata": {},
   "source": [
    "## 4. Aggregate Functions"
   ]
  },
  {
   "cell_type": "code",
   "execution_count": null,
   "id": "25c888a5",
   "metadata": {},
   "outputs": [],
   "source": [
    "arr = np.array([[1, 2, 3], [4, 5, 6]])\n",
    "\n",
    "print(\"Sum:\", np.sum(arr))\n",
    "print(\"Mean:\", np.mean(arr))\n",
    "print(\"Sum along axis 0:\", np.sum(arr, axis=0))\n",
    "print(\"Sum along axis 1:\", np.sum(arr, axis=1))"
   ]
  },
  {
   "cell_type": "markdown",
   "id": "dc478751",
   "metadata": {},
   "source": [
    "## 5. Reshaping Arrays"
   ]
  },
  {
   "cell_type": "code",
   "execution_count": null,
   "id": "3b382bc5",
   "metadata": {},
   "outputs": [],
   "source": [
    "arr = np.array([[1, 2, 3], [4, 5, 6]])\n",
    "\n",
    "# Reshape\n",
    "reshaped = arr.reshape((3, 2))\n",
    "print(\"Reshaped array:\\n\", reshaped)\n",
    "\n",
    "# Flatten\n",
    "flattened = arr.flatten()\n",
    "print(\"Flattened array:\", flattened)"
   ]
  },
  {
   "cell_type": "markdown",
   "id": "675846f7",
   "metadata": {},
   "source": [
    "## 🧠 Exercises"
   ]
  },
  {
   "cell_type": "markdown",
   "id": "d065dd6c",
   "metadata": {},
   "source": [
    "1. Create a 3D array of shape (2, 3, 4) with random integers from 0 to 9.\n",
    "2. Slice the second row of a 2D array.\n",
    "3. Perform element-wise multiplication on two arrays.\n",
    "4. Calculate the mean of a 2D array along axis 1.\n",
    "5. Reshape a 1D array of 12 elements into a 3x4 array."
   ]
  }
 ],
 "metadata": {
  "kernelspec": {
   "display_name": "Python 3",
   "language": "python",
   "name": "python3"
  },
  "language_info": {
   "name": "python",
   "version": ""
  }
 },
 "nbformat": 4,
 "nbformat_minor": 5
}
