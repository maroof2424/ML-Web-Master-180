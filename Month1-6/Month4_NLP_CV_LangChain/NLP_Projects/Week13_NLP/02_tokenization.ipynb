{
  "nbformat": 4,
  "nbformat_minor": 0,
  "metadata": {
    "colab": {
      "provenance": []
    },
    "kernelspec": {
      "name": "python3",
      "display_name": "Python 3"
    },
    "language_info": {
      "name": "python"
    }
  },
  "cells": [
    {
      "cell_type": "code",
      "execution_count": 1,
      "metadata": {
        "colab": {
          "base_uri": "https://localhost:8080/"
        },
        "id": "hGsY4Eama6Rz",
        "outputId": "ab6575bd-f899-42a2-c925-691b3e6c5990"
      },
      "outputs": [
        {
          "output_type": "stream",
          "name": "stderr",
          "text": [
            "[nltk_data] Downloading package punkt_tab to /root/nltk_data...\n",
            "[nltk_data]   Unzipping tokenizers/punkt_tab.zip.\n"
          ]
        },
        {
          "output_type": "execute_result",
          "data": {
            "text/plain": [
              "True"
            ]
          },
          "metadata": {},
          "execution_count": 1
        }
      ],
      "source": [
        "import nltk\n",
        "from nltk.tokenize import word_tokenize, sent_tokenize\n",
        "from collections import Counter\n",
        "import matplotlib.pyplot as plt\n",
        "\n",
        "nltk.download('punkt_tab')"
      ]
    },
    {
      "cell_type": "code",
      "source": [
        "text = \"\"\"\n",
        "Natural Language Processing (NLP) enables computers to understand human language.\n",
        "NLP tasks include tokenization, sentiment analysis, and named entity recognition.\n",
        "Python and libraries like NLTK and SpaCy make NLP easy and powerful.\n",
        "\"\"\""
      ],
      "metadata": {
        "id": "kGPV_a1Tck6Q"
      },
      "execution_count": 2,
      "outputs": []
    },
    {
      "cell_type": "code",
      "source": [
        "sentences = sent_tokenize(text)\n",
        "print(\"🔹 Sentences:\\n\", sentences)\n",
        "print(\"\\nTotal Sentences:\", len(sentences))"
      ],
      "metadata": {
        "colab": {
          "base_uri": "https://localhost:8080/"
        },
        "id": "CEUUDPV2c0A4",
        "outputId": "86e3c284-8fc1-425d-8543-c9a8e413298b"
      },
      "execution_count": 3,
      "outputs": [
        {
          "output_type": "stream",
          "name": "stdout",
          "text": [
            "🔹 Sentences:\n",
            " ['\\nNatural Language Processing (NLP) enables computers to understand human language.', 'NLP tasks include tokenization, sentiment analysis, and named entity recognition.', 'Python and libraries like NLTK and SpaCy make NLP easy and powerful.']\n",
            "\n",
            "Total Sentences: 3\n"
          ]
        }
      ]
    },
    {
      "cell_type": "code",
      "source": [
        "words = word_tokenize(text)\n",
        "print(\"🔹 First 20 Tokens:\\n\", words[:20])\n",
        "print(\"\\nTotal Tokens:\", len(words))"
      ],
      "metadata": {
        "colab": {
          "base_uri": "https://localhost:8080/"
        },
        "id": "Klw04DgQc1pz",
        "outputId": "d420b65e-bb7e-471a-e17a-11fa2d1db4bd"
      },
      "execution_count": 4,
      "outputs": [
        {
          "output_type": "stream",
          "name": "stdout",
          "text": [
            "🔹 First 20 Tokens:\n",
            " ['Natural', 'Language', 'Processing', '(', 'NLP', ')', 'enables', 'computers', 'to', 'understand', 'human', 'language', '.', 'NLP', 'tasks', 'include', 'tokenization', ',', 'sentiment', 'analysis']\n",
            "\n",
            "Total Tokens: 39\n"
          ]
        }
      ]
    },
    {
      "cell_type": "code",
      "source": [
        "import string\n",
        "\n",
        "clean_tokens = [w.lower() for w in words if w.isalpha()]\n",
        "print(\"✅ Clean Tokens:\\n\", clean_tokens[:20])"
      ],
      "metadata": {
        "colab": {
          "base_uri": "https://localhost:8080/"
        },
        "id": "k8idVYlnc5Yf",
        "outputId": "564768ac-97b6-414e-c5be-e34da038451f"
      },
      "execution_count": 5,
      "outputs": [
        {
          "output_type": "stream",
          "name": "stdout",
          "text": [
            "✅ Clean Tokens:\n",
            " ['natural', 'language', 'processing', 'nlp', 'enables', 'computers', 'to', 'understand', 'human', 'language', 'nlp', 'tasks', 'include', 'tokenization', 'sentiment', 'analysis', 'and', 'named', 'entity', 'recognition']\n"
          ]
        }
      ]
    },
    {
      "cell_type": "code",
      "source": [
        "word_freq = Counter(clean_tokens)\n",
        "\n",
        "print(\"📊 Top 10 Most Common Words:\")\n",
        "print(word_freq.most_common(10))"
      ],
      "metadata": {
        "colab": {
          "base_uri": "https://localhost:8080/"
        },
        "id": "MH0snUxVc8Vd",
        "outputId": "dc978eec-8b82-44f7-ef90-08a7a72ac37a"
      },
      "execution_count": 6,
      "outputs": [
        {
          "output_type": "stream",
          "name": "stdout",
          "text": [
            "📊 Top 10 Most Common Words:\n",
            "[('and', 4), ('nlp', 3), ('language', 2), ('natural', 1), ('processing', 1), ('enables', 1), ('computers', 1), ('to', 1), ('understand', 1), ('human', 1)]\n"
          ]
        }
      ]
    },
    {
      "cell_type": "code",
      "source": [
        "top_words = dict(word_freq.most_common(10))\n",
        "\n",
        "plt.bar(top_words.keys(), top_words.values())\n",
        "plt.xticks(rotation=45)\n",
        "plt.title(\"Top 10 Word Frequencies\")\n",
        "plt.xlabel(\"Words\")\n",
        "plt.ylabel(\"Frequency\")\n",
        "plt.show()"
      ],
      "metadata": {
        "colab": {
          "base_uri": "https://localhost:8080/",
          "height": 524
        },
        "id": "cuX7-bSSc-Eb",
        "outputId": "81c9a470-704f-4de3-ccc4-9022048e7a3f"
      },
      "execution_count": 7,
      "outputs": [
        {
          "output_type": "display_data",
          "data": {
            "text/plain": [
              "<Figure size 640x480 with 1 Axes>"
            ],
            "image/png": "[encoded data removed]"
          },
          "metadata": {}
        }
      ]
    },
    {
      "cell_type": "code",
      "source": [
        "vocab = sorted(set(clean_tokens))\n",
        "print(\"🗂️ Vocabulary Size:\", len(vocab))\n",
        "print(\"Sample Vocabulary:\", vocab[:20])"
      ],
      "metadata": {
        "colab": {
          "base_uri": "https://localhost:8080/"
        },
        "id": "QJgtZ4qHdAc8",
        "outputId": "e9ec5b0d-0425-4272-e1bd-7248a13b4caf"
      },
      "execution_count": 8,
      "outputs": [
        {
          "output_type": "stream",
          "name": "stdout",
          "text": [
            "🗂️ Vocabulary Size: 26\n",
            "Sample Vocabulary: ['analysis', 'and', 'computers', 'easy', 'enables', 'entity', 'human', 'include', 'language', 'libraries', 'like', 'make', 'named', 'natural', 'nlp', 'nltk', 'powerful', 'processing', 'python', 'recognition']\n"
          ]
        }
      ]
    },
    {
      "cell_type": "code",
      "source": [],
      "metadata": {
        "id": "403Ox-vIdEIs"
      },
      "execution_count": null,
      "outputs": []
    }
  ]
}