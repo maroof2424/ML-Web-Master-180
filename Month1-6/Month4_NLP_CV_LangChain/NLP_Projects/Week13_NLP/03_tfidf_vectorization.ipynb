{
  "nbformat": 4,
  "nbformat_minor": 0,
  "metadata": {
    "colab": {
      "provenance": []
    },
    "kernelspec": {
      "name": "python3",
      "display_name": "Python 3"
    },
    "language_info": {
      "name": "python"
    }
  },
  "cells": [
    {
      "cell_type": "code",
      "execution_count": 1,
      "metadata": {
        "id": "PhCDziooZ3N5"
      },
      "outputs": [],
      "source": [
        "from sklearn.feature_extraction.text import CountVectorizer, TfidfVectorizer\n",
        "import pandas as pd"
      ]
    },
    {
      "cell_type": "code",
      "source": [
        "corpus = [\n",
        "    \"I love Natural Language Processing\",\n",
        "    \"Language models are powerful for NLP tasks\",\n",
        "    \"I love using Python for text processing\"\n",
        "]"
      ],
      "metadata": {
        "id": "MsZxzVe1bcyf"
      },
      "execution_count": 2,
      "outputs": []
    },
    {
      "cell_type": "code",
      "source": [
        "vectorizer = CountVectorizer()\n",
        "X_bow = vectorizer.fit_transform(corpus)"
      ],
      "metadata": {
        "id": "zfwsnmGObeyP"
      },
      "execution_count": 3,
      "outputs": []
    },
    {
      "cell_type": "code",
      "source": [
        "print(\"\\n🔹 BoW Matrix:\")\n",
        "print(pd.DataFrame(X_bow.toarray(), columns=vectorizer.get_feature_names_out()))"
      ],
      "metadata": {
        "colab": {
          "base_uri": "https://localhost:8080/"
        },
        "id": "3-c0mrXJbh0r",
        "outputId": "b9388b7e-c918-414d-9bd6-91a7a82ffe0c"
      },
      "execution_count": 4,
      "outputs": [
        {
          "output_type": "stream",
          "name": "stdout",
          "text": [
            "\n",
            "🔹 BoW Matrix:\n",
            "   are  for  language  love  models  natural  nlp  powerful  processing  \\\n",
            "0    0    0         1     1       0        1    0         0           1   \n",
            "1    1    1         1     0       1        0    1         1           0   \n",
            "2    0    1         0     1       0        0    0         0           1   \n",
            "\n",
            "   python  tasks  text  using  \n",
            "0       0      0     0      0  \n",
            "1       0      1     0      0  \n",
            "2       1      0     1      1  \n"
          ]
        }
      ]
    },
    {
      "cell_type": "code",
      "source": [
        "print(\"🔹 Feature Names:\")\n",
        "print(vectorizer.get_feature_names_out())"
      ],
      "metadata": {
        "colab": {
          "base_uri": "https://localhost:8080/"
        },
        "id": "DIxMxlx0bk46",
        "outputId": "ba444e89-1adb-4558-e92c-70035fa4d71f"
      },
      "execution_count": 5,
      "outputs": [
        {
          "output_type": "stream",
          "name": "stdout",
          "text": [
            "🔹 Feature Names:\n",
            "['are' 'for' 'language' 'love' 'models' 'natural' 'nlp' 'powerful'\n",
            " 'processing' 'python' 'tasks' 'text' 'using']\n"
          ]
        }
      ]
    },
    {
      "cell_type": "code",
      "source": [
        "tfidf = TfidfVectorizer()\n",
        "X_tfidf = tfidf.fit_transform(corpus)"
      ],
      "metadata": {
        "id": "lskNxC5Dbl_a"
      },
      "execution_count": 6,
      "outputs": []
    },
    {
      "cell_type": "code",
      "source": [
        "print(\"🔹 TF-IDF Feature Names:\")\n",
        "print(tfidf.get_feature_names_out())"
      ],
      "metadata": {
        "colab": {
          "base_uri": "https://localhost:8080/"
        },
        "id": "nNKmQ7utbsTa",
        "outputId": "5b56afd0-d158-4402-e9ed-a895a72707c0"
      },
      "execution_count": 7,
      "outputs": [
        {
          "output_type": "stream",
          "name": "stdout",
          "text": [
            "🔹 TF-IDF Feature Names:\n",
            "['are' 'for' 'language' 'love' 'models' 'natural' 'nlp' 'powerful'\n",
            " 'processing' 'python' 'tasks' 'text' 'using']\n"
          ]
        }
      ]
    },
    {
      "cell_type": "code",
      "source": [
        "print(\"\\n🔹 TF-IDF Matrix:\")\n",
        "print(pd.DataFrame(X_tfidf.toarray(), columns=tfidf.get_feature_names_out()).round(3))"
      ],
      "metadata": {
        "colab": {
          "base_uri": "https://localhost:8080/"
        },
        "id": "_PxcrM4JbwTa",
        "outputId": "bc107ed9-32dc-4e63-ed01-6e89fff50eeb"
      },
      "execution_count": 8,
      "outputs": [
        {
          "output_type": "stream",
          "name": "stdout",
          "text": [
            "\n",
            "🔹 TF-IDF Matrix:\n",
            "     are    for  language   love  models  natural    nlp  powerful  \\\n",
            "0  0.000  0.000     0.460  0.460   0.000    0.605  0.000     0.000   \n",
            "1  0.403  0.307     0.307  0.000   0.403    0.000  0.403     0.403   \n",
            "2  0.000  0.349     0.000  0.349   0.000    0.000  0.000     0.000   \n",
            "\n",
            "   processing  python  tasks  text  using  \n",
            "0       0.460    0.00  0.000  0.00   0.00  \n",
            "1       0.000    0.00  0.403  0.00   0.00  \n",
            "2       0.349    0.46  0.000  0.46   0.46  \n"
          ]
        }
      ]
    },
    {
      "cell_type": "code",
      "source": [
        "import numpy as np\n",
        "import matplotlib.pyplot as plt"
      ],
      "metadata": {
        "id": "OmuFCnMObxTK"
      },
      "execution_count": 9,
      "outputs": []
    },
    {
      "cell_type": "code",
      "source": [
        "tfidf_df = pd.DataFrame(X_tfidf.toarray(), columns=tfidf.get_feature_names_out())\n",
        "avg_scores = tfidf_df.mean().sort_values(ascending=False).head(10)"
      ],
      "metadata": {
        "id": "BORffNhMb5Or"
      },
      "execution_count": 10,
      "outputs": []
    },
    {
      "cell_type": "code",
      "source": [
        "plt.barh(avg_scores.index, avg_scores.values)\n",
        "plt.title(\"Top 10 TF-IDF Words\")\n",
        "plt.xlabel(\"Average TF-IDF Score\")\n",
        "plt.gca().invert_yaxis()\n",
        "plt.show()"
      ],
      "metadata": {
        "colab": {
          "base_uri": "https://localhost:8080/",
          "height": 472
        },
        "id": "UBoFgCndb8kq",
        "outputId": "67f77893-b8fd-4435-de0a-996992efc2dc"
      },
      "execution_count": 11,
      "outputs": [
        {
          "output_type": "display_data",
          "data": {
            "text/plain": [
              "<Figure size 640x480 with 1 Axes>"
            ],
            "image/png": "[encoded data removed]"
          },
          "metadata": {}
        }
      ]
    },
    {
      "cell_type": "code",
      "source": [],
      "metadata": {
        "id": "QTVGaPJlb98L"
      },
      "execution_count": null,
      "outputs": []
    }
  ]
}