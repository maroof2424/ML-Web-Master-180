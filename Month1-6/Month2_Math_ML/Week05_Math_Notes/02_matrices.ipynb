{
  "nbformat": 4,
  "nbformat_minor": 0,
  "metadata": {
    "colab": {
      "provenance": []
    },
    "kernelspec": {
      "name": "python3",
      "display_name": "Python 3"
    },
    "language_info": {
      "name": "python"
    }
  },
  "cells": [
    {
      "cell_type": "code",
      "execution_count": 5,
      "metadata": {
        "id": "9KlimrW6h6_C"
      },
      "outputs": [],
      "source": [
        "import numpy as np"
      ]
    },
    {
      "cell_type": "code",
      "source": [
        "A = np.array([[1,2,3],[4,5,6]])\n",
        "B = np.array([[7,8,9],[1,2,3]])"
      ],
      "metadata": {
        "id": "TjqYOP4NiAjU"
      },
      "execution_count": 6,
      "outputs": []
    },
    {
      "cell_type": "code",
      "source": [
        "print(\"Matrix A:\\n\",A)\n",
        "print(\"Matrix B:\\n\",B)"
      ],
      "metadata": {
        "colab": {
          "base_uri": "https://localhost:8080/"
        },
        "id": "TaMmvIIPiJ0w",
        "outputId": "66894168-dfc0-443f-daa7-7a0f3be851f3"
      },
      "execution_count": 7,
      "outputs": [
        {
          "output_type": "stream",
          "name": "stdout",
          "text": [
            "Matrix A:\n",
            " [[1 2 3]\n",
            " [4 5 6]]\n",
            "Matrix B:\n",
            " [[7 8 9]\n",
            " [1 2 3]]\n"
          ]
        }
      ]
    },
    {
      "cell_type": "markdown",
      "source": [
        "# **Additional And Subtraction**"
      ],
      "metadata": {
        "id": "Ki4d4UcEim1t"
      }
    },
    {
      "cell_type": "code",
      "source": [
        "print(\"\\nA + B =\\n\",A + B)\n",
        "print(\"\\nA - B =\\n\",A - B)"
      ],
      "metadata": {
        "colab": {
          "base_uri": "https://localhost:8080/"
        },
        "id": "65e0J44Uij1A",
        "outputId": "4b407852-a44a-41ab-bd14-d36acebcd3b1"
      },
      "execution_count": 10,
      "outputs": [
        {
          "output_type": "stream",
          "name": "stdout",
          "text": [
            "\n",
            "A + B =\n",
            " [[ 8 10 12]\n",
            " [ 5  7  9]]\n",
            "\n",
            "A - B =\n",
            " [[-6 -6 -6]\n",
            " [ 3  3  3]]\n"
          ]
        }
      ]
    },
    {
      "cell_type": "markdown",
      "source": [
        "# **Scalar Multiplication**"
      ],
      "metadata": {
        "id": "7CoeWNd2janu"
      }
    },
    {
      "cell_type": "code",
      "source": [
        "print(\"\\n2 * A =\\n\",2*A)"
      ],
      "metadata": {
        "colab": {
          "base_uri": "https://localhost:8080/"
        },
        "id": "PhNNjtdhjZkS",
        "outputId": "f5e454c8-5457-46b6-a004-2e3f96317f47"
      },
      "execution_count": 11,
      "outputs": [
        {
          "output_type": "stream",
          "name": "stdout",
          "text": [
            "\n",
            "2 * A =\n",
            " [[ 2  4  6]\n",
            " [ 8 10 12]]\n"
          ]
        }
      ]
    },
    {
      "cell_type": "markdown",
      "source": [
        "# **Transponse**"
      ],
      "metadata": {
        "id": "qPsnGL5_jtrV"
      }
    },
    {
      "cell_type": "code",
      "source": [
        "print(\"\\nTransponse ofA:\\n\",A.T)"
      ],
      "metadata": {
        "colab": {
          "base_uri": "https://localhost:8080/"
        },
        "id": "CycnRU3vi_lT",
        "outputId": "99c70bc3-d70c-40f0-e0f8-fc0db99fae7e"
      },
      "execution_count": 12,
      "outputs": [
        {
          "output_type": "stream",
          "name": "stdout",
          "text": [
            "\n",
            "Transponse ofA:\n",
            " [[1 4]\n",
            " [2 5]\n",
            " [3 6]]\n"
          ]
        }
      ]
    },
    {
      "cell_type": "markdown",
      "source": [
        "#  **Matrix Multiplication**\n",
        "## **For multiplication, inner dimensions must match**"
      ],
      "metadata": {
        "id": "nWRmzK18j-yi"
      }
    },
    {
      "cell_type": "code",
      "source": [
        "C = np.array([[1, 2],\n",
        "              [3, 4],\n",
        "              [5, 6]])"
      ],
      "metadata": {
        "id": "WfobspgRj5iu"
      },
      "execution_count": 13,
      "outputs": []
    },
    {
      "cell_type": "code",
      "source": [
        "print(\"\\nMatrix C:\\n\", C)\n",
        "print(\"\\nA (2x3) * C (3x2) =\\n\", A.dot(C))"
      ],
      "metadata": {
        "colab": {
          "base_uri": "https://localhost:8080/"
        },
        "id": "E0U4_gsYkW_d",
        "outputId": "623e5121-6c13-4f47-ea0d-d78bdc625753"
      },
      "execution_count": 14,
      "outputs": [
        {
          "output_type": "stream",
          "name": "stdout",
          "text": [
            "\n",
            "Matrix C:\n",
            " [[1 2]\n",
            " [3 4]\n",
            " [5 6]]\n",
            "\n",
            "A (2x3) * C (3x2) =\n",
            " [[22 28]\n",
            " [49 64]]\n"
          ]
        }
      ]
    },
    {
      "cell_type": "markdown",
      "source": [
        "# **Identity Matrix**\n"
      ],
      "metadata": {
        "id": "rCg0PGHXkbIP"
      }
    },
    {
      "cell_type": "code",
      "source": [
        "I = np.eye(3)\n",
        "print(\"\\nIdentity Matrix (3x3):\\n\", I)"
      ],
      "metadata": {
        "colab": {
          "base_uri": "https://localhost:8080/"
        },
        "id": "9v8fZWjQkZRh",
        "outputId": "0490e57b-4479-4b3f-9e21-fcf05aaabb24"
      },
      "execution_count": 15,
      "outputs": [
        {
          "output_type": "stream",
          "name": "stdout",
          "text": [
            "\n",
            "Identity Matrix (3x3):\n",
            " [[1. 0. 0.]\n",
            " [0. 1. 0.]\n",
            " [0. 0. 1.]]\n"
          ]
        }
      ]
    },
    {
      "cell_type": "markdown",
      "source": [
        "# **Inverse of a Square Matrix**"
      ],
      "metadata": {
        "id": "s-o1zvyEkpJn"
      }
    },
    {
      "cell_type": "code",
      "source": [
        "M = np.array([[4, 7],\n",
        "              [2, 6]])\n",
        "print(\"\\nMatrix M:\\n\", M)\n",
        "print(\"Determinant of M:\", np.linalg.det(M))\n",
        "\n",
        "if np.linalg.det(M) != 0:\n",
        "    inv_M = np.linalg.inv(M)\n",
        "    print(\"\\nInverse of M:\\n\", inv_M)\n",
        "    print(\"\\nM * M^-1 =\\n\", M.dot(inv_M))"
      ],
      "metadata": {
        "colab": {
          "base_uri": "https://localhost:8080/"
        },
        "id": "-V-wwP0wkk98",
        "outputId": "6cf7aee3-4dbf-4eb7-b871-fb8fee86e7a9"
      },
      "execution_count": 16,
      "outputs": [
        {
          "output_type": "stream",
          "name": "stdout",
          "text": [
            "\n",
            "Matrix M:\n",
            " [[4 7]\n",
            " [2 6]]\n",
            "Determinant of M: 10.000000000000002\n",
            "\n",
            "Inverse of M:\n",
            " [[ 0.6 -0.7]\n",
            " [-0.2  0.4]]\n",
            "\n",
            "M * M^-1 =\n",
            " [[ 1.00000000e+00 -1.11022302e-16]\n",
            " [ 1.11022302e-16  1.00000000e+00]]\n"
          ]
        }
      ]
    },
    {
      "cell_type": "code",
      "source": [],
      "metadata": {
        "id": "PEyHFcoCk7H8"
      },
      "execution_count": null,
      "outputs": []
    }
  ]
}