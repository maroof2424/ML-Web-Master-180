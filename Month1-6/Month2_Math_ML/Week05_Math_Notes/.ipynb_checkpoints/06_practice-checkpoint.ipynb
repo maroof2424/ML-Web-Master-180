{
 "cells": [
  {
   "cell_type": "code",
   "execution_count": 1,
   "id": "c5a727cc-16de-42fb-83f6-303ba83c0e83",
   "metadata": {},
   "outputs": [],
   "source": [
    "import numpy as np"
   ]
  },
  {
   "cell_type": "code",
   "execution_count": 2,
   "id": "26e09066-4fd3-4798-ac0e-83b57d07143b",
   "metadata": {},
   "outputs": [],
   "source": [
    "u = np.array([2, 3])\n",
    "v = np.array([1, 4])\n"
   ]
  },
  {
   "cell_type": "code",
   "execution_count": 3,
   "id": "45ae6cab-019d-4a49-a202-d5a57b415b9d",
   "metadata": {},
   "outputs": [
    {
     "name": "stdout",
     "output_type": "stream",
     "text": [
      "u + v = [3 7]\n",
      "3u - 2v = [4 1]\n",
      "Dot product u·v = 14\n"
     ]
    }
   ],
   "source": [
    "print(\"u + v =\", u + v)\n",
    "print(\"3u - 2v =\", 3*u - 2*v)\n",
    "print(\"Dot product u·v =\", np.dot(u, v))"
   ]
  },
  {
   "cell_type": "code",
   "execution_count": 4,
   "id": "32743c99-c021-4215-a864-cc2bf065252c",
   "metadata": {},
   "outputs": [],
   "source": [
    "A = np.array([[1, 2], [3, 4]])\n",
    "B = np.array([[2, 0], [1, 3]])"
   ]
  },
  {
   "cell_type": "code",
   "execution_count": 5,
   "id": "525bb7bb-5036-4e83-84ed-b1ac2f91ecfe",
   "metadata": {},
   "outputs": [
    {
     "name": "stdout",
     "output_type": "stream",
     "text": [
      "A + B =\n",
      " [[3 2]\n",
      " [4 7]]\n",
      "A·B =\n",
      " [[ 4  6]\n",
      " [10 12]]\n",
      "Transpose of A =\n",
      " [[1 3]\n",
      " [2 4]]\n"
     ]
    }
   ],
   "source": [
    "print(\"A + B =\\n\", A + B)\n",
    "print(\"A·B =\\n\", np.dot(A, B))\n",
    "print(\"Transpose of A =\\n\", A.T)"
   ]
  },
  {
   "cell_type": "code",
   "execution_count": 6,
   "id": "01f5fb6e-197a-458d-8788-f0268513f310",
   "metadata": {},
   "outputs": [],
   "source": [
    "C = np.array([[2, -1, 0],\n",
    "              [1,  3, 4],\n",
    "              [0, -2, 5]])"
   ]
  },
  {
   "cell_type": "code",
   "execution_count": 7,
   "id": "1e4cdb30-8e89-4602-a250-5d48358931b6",
   "metadata": {},
   "outputs": [
    {
     "name": "stdout",
     "output_type": "stream",
     "text": [
      "Determinant of C = 51.00000000000002\n"
     ]
    }
   ],
   "source": [
    "print(\"Determinant of C =\", np.linalg.det(C))"
   ]
  },
  {
   "cell_type": "code",
   "execution_count": 8,
   "id": "ae44cf2b-e6ab-4034-9adb-f003858488b1",
   "metadata": {},
   "outputs": [],
   "source": [
    "D = np.array([[4, 1],\n",
    "              [2, 3]])"
   ]
  },
  {
   "cell_type": "code",
   "execution_count": 9,
   "id": "7d32721b-86d0-4493-b8f8-6af2984b6a93",
   "metadata": {},
   "outputs": [
    {
     "name": "stdout",
     "output_type": "stream",
     "text": [
      "Eigenvalues: [5. 2.]\n",
      "Eigenvectors:\n",
      " [[ 0.70710678 -0.4472136 ]\n",
      " [ 0.70710678  0.89442719]]\n"
     ]
    }
   ],
   "source": [
    "eigvals, eigvecs = np.linalg.eig(D)\n",
    "print(\"Eigenvalues:\", eigvals)\n",
    "print(\"Eigenvectors:\\n\", eigvecs)"
   ]
  },
  {
   "cell_type": "code",
   "execution_count": 10,
   "id": "0535d6d0-7c2d-4dc2-89e0-e23c6b512573",
   "metadata": {},
   "outputs": [],
   "source": [
    "M = np.array([[3, 1, 2],\n",
    "              [4, 0, -1],\n",
    "              [2, 5, 3]])"
   ]
  },
  {
   "cell_type": "code",
   "execution_count": 11,
   "id": "b4b62f94-c89c-4d9a-85c0-4cace269eff9",
   "metadata": {},
   "outputs": [
    {
     "name": "stdout",
     "output_type": "stream",
     "text": [
      "Determinant: 40.999999999999986\n"
     ]
    }
   ],
   "source": [
    "print(\"Determinant:\", np.linalg.det(M))"
   ]
  },
  {
   "cell_type": "code",
   "execution_count": 12,
   "id": "a91c9745-0762-4cf6-afe2-827529e58b87",
   "metadata": {},
   "outputs": [
    {
     "name": "stdout",
     "output_type": "stream",
     "text": [
      "Eigenvalues: [ 6.11521827+0.j         -0.05760914+2.58868037j -0.05760914-2.58868037j]\n"
     ]
    }
   ],
   "source": [
    "eigvals, eigvecs = np.linalg.eig(M)\n",
    "print(\"Eigenvalues:\", eigvals)"
   ]
  },
  {
   "cell_type": "code",
   "execution_count": 13,
   "id": "658b8391-d49e-4e5c-be2d-7266774f01c3",
   "metadata": {},
   "outputs": [
    {
     "name": "stdout",
     "output_type": "stream",
     "text": [
      "det(M^T): 41.00000000000001\n",
      "det(M): 40.999999999999986\n"
     ]
    }
   ],
   "source": [
    "print(\"det(M^T):\", np.linalg.det(M.T))\n",
    "print(\"det(M):\", np.linalg.det(M))"
   ]
  },
  {
   "cell_type": "code",
   "execution_count": null,
   "id": "3315a4fb-3a82-43ad-8908-c73fd5976948",
   "metadata": {},
   "outputs": [],
   "source": []
  }
 ],
 "metadata": {
  "kernelspec": {
   "display_name": "Python 3 (ipykernel)",
   "language": "python",
   "name": "python3"
  },
  "language_info": {
   "codemirror_mode": {
    "name": "ipython",
    "version": 3
   },
   "file_extension": ".py",
   "mimetype": "text/x-python",
   "name": "python",
   "nbconvert_exporter": "python",
   "pygments_lexer": "ipython3",
   "version": "3.13.5"
  }
 },
 "nbformat": 4,
 "nbformat_minor": 5
}
