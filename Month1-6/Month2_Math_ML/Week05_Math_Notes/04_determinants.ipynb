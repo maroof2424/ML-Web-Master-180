{
 "cells": [
  {
   "cell_type": "code",
   "execution_count": null,
   "id": "b32d294e",
   "metadata": {},
   "outputs": [],
   "source": [
    "import numpy as np"
   ]
  },
  {
   "cell_type": "code",
   "execution_count": null,
   "id": "002a7be8",
   "metadata": {},
   "outputs": [],
   "source": [
    "A = np.array([[2, 3],\n",
    "              [1, 4]])\n",
    "\n",
    "det_A = np.linalg.det(A)\n",
    "print(\"Matrix A:\\n\", A)\n",
    "print(\"Determinant of A =\", det_A)"
   ]
  },
  {
   "cell_type": "code",
   "execution_count": null,
   "id": "9148237f",
   "metadata": {},
   "outputs": [],
   "source": [
    "B = np.array([[1, 2, 3],\n",
    "              [0, 4, 5],\n",
    "              [1, 0, 6]])\n",
    "\n",
    "det_B = np.linalg.det(B)\n",
    "print(\"Matrix B:\\n\", B)\n",
    "print(\"Determinant of B =\", det_B)\n"
   ]
  },
  {
   "cell_type": "code",
   "execution_count": null,
   "id": "19c92c64",
   "metadata": {},
   "outputs": [],
   "source": [
    "# Property check: det(AB) = det(A)*det(B)\n",
    "C = np.array([[1, 2],\n",
    "              [3, 4]])\n",
    "\n",
    "D = np.array([[2, 0],\n",
    "              [1, 3]])\n",
    "\n",
    "lhs = np.linalg.det(np.dot(C, D))\n",
    "rhs = np.linalg.det(C) * np.linalg.det(D)\n",
    "\n",
    "print(\"det(C·D) =\", lhs)\n",
    "print(\"det(C) * det(D) =\", rhs)\n"
   ]
  },
  {
   "cell_type": "code",
   "execution_count": null,
   "id": "043a8eed",
   "metadata": {},
   "outputs": [],
   "source": []
  },
  {
   "cell_type": "code",
   "execution_count": null,
   "id": "f1f5f2c0",
   "metadata": {},
   "outputs": [],
   "source": []
  },
  {
   "cell_type": "code",
   "execution_count": null,
   "id": "d05635b4",
   "metadata": {},
   "outputs": [],
   "source": []
  }
 ],
 "metadata": {
  "kernelspec": {
   "display_name": "base",
   "language": "python",
   "name": "python3"
  },
  "language_info": {
   "name": "python",
   "version": "3.13.5"
  }
 },
 "nbformat": 4,
 "nbformat_minor": 5
}
