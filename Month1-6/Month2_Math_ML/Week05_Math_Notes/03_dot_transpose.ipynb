{
 "cells": [
  {
   "cell_type": "markdown",
   "id": "2fceb05c",
   "metadata": {},
   "source": [
    "# 📝 Dot Product (Vectors)"
   ]
  },
  {
   "cell_type": "code",
   "execution_count": 1,
   "id": "9a8796ba",
   "metadata": {},
   "outputs": [],
   "source": [
    "import numpy as np"
   ]
  },
  {
   "cell_type": "code",
   "execution_count": 2,
   "id": "a08d6bfd",
   "metadata": {},
   "outputs": [],
   "source": [
    "a = np.array([1,2,3])\n",
    "b = np.array([4,5,6])"
   ]
  },
  {
   "cell_type": "code",
   "execution_count": 3,
   "id": "f6077319",
   "metadata": {},
   "outputs": [
    {
     "name": "stdout",
     "output_type": "stream",
     "text": [
      "Vector a: [1 2 3]\n",
      "Vector b: [4 5 6]\n"
     ]
    }
   ],
   "source": [
    "print(f\"Vector a: {a}\")\n",
    "print(f\"Vector b: {b}\")"
   ]
  },
  {
   "cell_type": "markdown",
   "id": "3521928a",
   "metadata": {},
   "source": [
    "## Dot product"
   ]
  },
  {
   "cell_type": "code",
   "execution_count": 4,
   "id": "8efaec49",
   "metadata": {},
   "outputs": [
    {
     "name": "stdout",
     "output_type": "stream",
     "text": [
      "\n",
      "Dot Product (a . b) = 32\n"
     ]
    }
   ],
   "source": [
    "dot_ab = np.dot(a, b)\n",
    "print(f\"\\nDot Product (a . b) = {dot_ab}\")"
   ]
  },
  {
   "cell_type": "markdown",
   "id": "1c92429f",
   "metadata": {},
   "source": [
    "# 📝 Dot Product (Matrix Multiplication Form)"
   ]
  },
  {
   "cell_type": "markdown",
   "id": "7b130573",
   "metadata": {},
   "source": [
    "## Define matrices"
   ]
  },
  {
   "cell_type": "code",
   "execution_count": 5,
   "id": "5b54e90c",
   "metadata": {},
   "outputs": [],
   "source": [
    "A = np.array([[1, 2],\n",
    "              [3, 4]])\n",
    "B = np.array([[5, 6],\n",
    "              [7, 8]])"
   ]
  },
  {
   "cell_type": "code",
   "execution_count": 6,
   "id": "d1b4ba5b",
   "metadata": {},
   "outputs": [
    {
     "name": "stdout",
     "output_type": "stream",
     "text": [
      "Matrix A:\n",
      " [[1 2]\n",
      " [3 4]]\n",
      "Matrix B:\n",
      " [[5 6]\n",
      " [7 8]]\n"
     ]
    }
   ],
   "source": [
    "print(f\"Matrix A:\\n {A}\")\n",
    "print(f\"Matrix B:\\n {B}\")"
   ]
  },
  {
   "cell_type": "markdown",
   "id": "94669ac4",
   "metadata": {},
   "source": [
    "## Dot product (matrix multiplication)"
   ]
  },
  {
   "cell_type": "code",
   "execution_count": 8,
   "id": "8c81877f",
   "metadata": {},
   "outputs": [
    {
     "name": "stdout",
     "output_type": "stream",
     "text": [
      "\n",
      "A . B=\n",
      "[[19 22]\n",
      " [43 50]]\n"
     ]
    }
   ],
   "source": [
    "C = np.dot(A, B)\n",
    "print(f\"\\nA . B=\\n{C}\")"
   ]
  },
  {
   "cell_type": "markdown",
   "id": "4c80d65f",
   "metadata": {},
   "source": [
    "## Transpose"
   ]
  },
  {
   "cell_type": "code",
   "execution_count": 9,
   "id": "3ca95920",
   "metadata": {},
   "outputs": [
    {
     "name": "stdout",
     "output_type": "stream",
     "text": [
      "\n",
      "Transpose of A:\n",
      " [[1 3]\n",
      " [2 4]]\n"
     ]
    }
   ],
   "source": [
    "print(\"\\nTranspose of A:\\n\", A.T)"
   ]
  },
  {
   "cell_type": "markdown",
   "id": "0279b04b",
   "metadata": {},
   "source": [
    "## Double transpose = original"
   ]
  },
  {
   "cell_type": "code",
   "execution_count": 10,
   "id": "3c8caab1",
   "metadata": {},
   "outputs": [
    {
     "name": "stdout",
     "output_type": "stream",
     "text": [
      "\n",
      "(A^T)^T =\n",
      " [[1 2]\n",
      " [3 4]]\n"
     ]
    }
   ],
   "source": [
    "print(\"\\n(A^T)^T =\\n\", (A.T).T)"
   ]
  }
 ],
 "metadata": {
  "kernelspec": {
   "display_name": "base",
   "language": "python",
   "name": "python3"
  },
  "language_info": {
   "codemirror_mode": {
    "name": "ipython",
    "version": 3
   },
   "file_extension": ".py",
   "mimetype": "text/x-python",
   "name": "python",
   "nbconvert_exporter": "python",
   "pygments_lexer": "ipython3",
   "version": "3.13.5"
  }
 },
 "nbformat": 4,
 "nbformat_minor": 5
}
