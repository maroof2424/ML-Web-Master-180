{
 "cells": [
  {
   "cell_type": "markdown",
   "id": "7ce12a95-5425-4438-a4dd-8693151b7f54",
   "metadata": {},
   "source": [
    "# 📘 Day 6 – Hypothesis Testing"
   ]
  },
  {
   "cell_type": "markdown",
   "id": "c4901ab9-0b53-417f-be95-cf59dfcde935",
   "metadata": {},
   "source": [
    "## --- Imports ---"
   ]
  },
  {
   "cell_type": "code",
   "execution_count": 2,
   "id": "dfcb24f3-0beb-4f98-ae81-e8cb77e16077",
   "metadata": {},
   "outputs": [],
   "source": [
    "import numpy as np\n",
    "import pandas as pd\n",
    "from scipy import stats"
   ]
  },
  {
   "cell_type": "markdown",
   "id": "9c2ab1cf-21e7-45fa-9b7f-7c8a5a269ca5",
   "metadata": {},
   "source": [
    "## --- 1. Null & Alternative Hypotheses ---\n",
    "### Example: We want to test if two groups have the same mean."
   ]
  },
  {
   "cell_type": "code",
   "execution_count": 3,
   "id": "f6c249f0-42b9-4e17-8511-fea35ac5fe4f",
   "metadata": {},
   "outputs": [
    {
     "name": "stdout",
     "output_type": "stream",
     "text": [
      "Group1:\n",
      "[60.4600808  48.3509891  53.8941511  47.82816885 53.47407087 45.54226644\n",
      " 52.46262817 51.18437657 52.09616032 56.70220564 47.86828027 45.81766269\n",
      " 50.7996255  57.80428413 48.24199172 47.95198887 51.73436893 50.89255545\n",
      " 48.59746711 44.48402148 46.79271029 44.46039075 43.48137899 52.64237208\n",
      " 49.71869165 53.27628552 47.7390098  53.45278284 47.13181066 56.89926918]\n",
      "Group2:\n",
      "[43.68052977 51.47475444 61.99249665 46.66423269 55.5368591  49.80315278\n",
      " 53.17240224 48.43117741 49.85254444 53.93517151 55.86396969 46.62379479\n",
      " 62.20730569 56.02528595 45.61160957 39.19525822 60.58243462 53.77905049\n",
      " 51.35327156 53.99865093 53.66941643 58.04027418 39.85372183 53.49854446\n",
      " 50.76164979 61.94701364 45.01249301 56.01333916 55.00092968 48.78440883]\n"
     ]
    }
   ],
   "source": [
    "group1 = np.random.normal(50,5,30)\n",
    "group2 = np.random.normal(52,5,30)\n",
    "\n",
    "print(f\"Group1:\\n{group1}\")\n",
    "print(f\"Group2:\\n{group2}\")"
   ]
  },
  {
   "cell_type": "code",
   "execution_count": 4,
   "id": "c9effc7c-67e2-479b-93b8-bb40342dc575",
   "metadata": {},
   "outputs": [
    {
     "name": "stdout",
     "output_type": "stream",
     "text": [
      "Group1 mean:\n",
      "50.39273485863401\n",
      "Group2 mean:\n",
      "52.078858118499085\n"
     ]
    }
   ],
   "source": [
    "print(f\"Group1 mean:\\n{np.mean(group1)}\")\n",
    "print(f\"Group2 mean:\\n{np.mean(group2)}\")"
   ]
  },
  {
   "cell_type": "markdown",
   "id": "d97916aa-06c8-4eb9-8155-2b54dedf9096",
   "metadata": {},
   "source": [
    "## --- 2. Two-sample t-test ---"
   ]
  },
  {
   "cell_type": "code",
   "execution_count": 8,
   "id": "d81d073b-7258-4b4b-a09f-98da6f169dc5",
   "metadata": {},
   "outputs": [],
   "source": [
    "t_stat, p_val = stats.ttest_ind(group1, group2)"
   ]
  },
  {
   "cell_type": "code",
   "execution_count": 9,
   "id": "81296b48-e5e9-48b6-b275-8b84ee30cf36",
   "metadata": {},
   "outputs": [
    {
     "name": "stdout",
     "output_type": "stream",
     "text": [
      "\n",
      "--- Two-sample t-test ---\n",
      "T-statistic: -1.251672995566361\n",
      "P-value: 0.2157136539099562\n"
     ]
    }
   ],
   "source": [
    "print(\"\\n--- Two-sample t-test ---\")\n",
    "print(\"T-statistic:\", t_stat)\n",
    "print(\"P-value:\", p_val)"
   ]
  },
  {
   "cell_type": "code",
   "execution_count": 10,
   "id": "78d49bb5-9b96-44b1-b4c5-7b946a05319b",
   "metadata": {},
   "outputs": [
    {
     "name": "stdout",
     "output_type": "stream",
     "text": [
      "Fail to Reject Null Hypothesis (no significant difference)\n"
     ]
    }
   ],
   "source": [
    "if p_val < 0.05:\n",
    "    print(\"Reject Null Hypothesis (significant difference)\")\n",
    "else:\n",
    "    print(\"Fail to Reject Null Hypothesis (no significant difference)\")"
   ]
  },
  {
   "cell_type": "markdown",
   "id": "988d6d89-fab0-4466-b340-b355abdd0d51",
   "metadata": {},
   "source": [
    "## --- 3. Chi-Square Test ---\n",
    "### Example: Contingency table (categorical data)"
   ]
  },
  {
   "cell_type": "code",
   "execution_count": 11,
   "id": "c983c3e9-c446-4f6d-835d-23f3c3bc8933",
   "metadata": {},
   "outputs": [],
   "source": [
    "data = np.array([[10, 20, 30],\n",
    "                 [6,  9,  17]])"
   ]
  },
  {
   "cell_type": "code",
   "execution_count": 12,
   "id": "d586f928-8d2e-44a1-9658-4e4dd63ec202",
   "metadata": {},
   "outputs": [],
   "source": [
    "chi2, p, dof, expected = stats.chi2_contingency(data)"
   ]
  },
  {
   "cell_type": "code",
   "execution_count": 13,
   "id": "33d5bf2d-5e60-42ea-a61e-dbb2ea9d011e",
   "metadata": {},
   "outputs": [
    {
     "name": "stdout",
     "output_type": "stream",
     "text": [
      "\n",
      "--- Chi-Square Test ---\n",
      "Chi2 Statistic: 0.27157465150403504\n",
      "P-value: 0.873028283380073\n",
      "Degrees of freedom: 2\n",
      "Expected values:\n",
      " [[10.43478261 18.91304348 30.65217391]\n",
      " [ 5.56521739 10.08695652 16.34782609]]\n"
     ]
    }
   ],
   "source": [
    "print(\"\\n--- Chi-Square Test ---\")\n",
    "print(\"Chi2 Statistic:\", chi2)\n",
    "print(\"P-value:\", p)\n",
    "print(\"Degrees of freedom:\", dof)\n",
    "print(\"Expected values:\\n\", expected)"
   ]
  },
  {
   "cell_type": "markdown",
   "id": "25ff5305-bee9-4a35-a1cd-c7142c4ca949",
   "metadata": {},
   "source": [
    "## --- 4. One-way ANOVA ---"
   ]
  },
  {
   "cell_type": "code",
   "execution_count": 14,
   "id": "f4c9a7b5-fc0c-45a4-bd2b-29f790dd0658",
   "metadata": {},
   "outputs": [],
   "source": [
    "groupA = np.random.normal(50, 5, 30)\n",
    "groupB = np.random.normal(52, 5, 30)\n",
    "groupC = np.random.normal(54, 5, 30)"
   ]
  },
  {
   "cell_type": "code",
   "execution_count": 15,
   "id": "a5ee90d3-94a0-43a7-9fe4-9c174640c0d8",
   "metadata": {},
   "outputs": [],
   "source": [
    "f_stat, p_val = stats.f_oneway(groupA, groupB, groupC)"
   ]
  },
  {
   "cell_type": "code",
   "execution_count": 16,
   "id": "328b263a-846e-41b2-99e6-b89b2e1a2626",
   "metadata": {},
   "outputs": [
    {
     "name": "stdout",
     "output_type": "stream",
     "text": [
      "\n",
      "--- One-way ANOVA ---\n",
      "F-statistic: 3.3115449109374695\n",
      "P-value: 0.04110818440319921\n"
     ]
    }
   ],
   "source": [
    "print(\"\\n--- One-way ANOVA ---\")\n",
    "print(\"F-statistic:\", f_stat)\n",
    "print(\"P-value:\", p_val)"
   ]
  },
  {
   "cell_type": "code",
   "execution_count": 17,
   "id": "a2802f2a-e072-43f9-84e2-a770308ec4d3",
   "metadata": {},
   "outputs": [
    {
     "name": "stdout",
     "output_type": "stream",
     "text": [
      "Reject Null Hypothesis (at least one group mean differs)\n"
     ]
    }
   ],
   "source": [
    "if p_val < 0.05:\n",
    "    print(\"Reject Null Hypothesis (at least one group mean differs)\")\n",
    "else:\n",
    "    print(\"Fail to Reject Null Hypothesis (means are equal)\")"
   ]
  },
  {
   "cell_type": "code",
   "execution_count": null,
   "id": "3bb87034-1037-454a-a7ac-77c781362ff5",
   "metadata": {},
   "outputs": [],
   "source": []
  }
 ],
 "metadata": {
  "kernelspec": {
   "display_name": "Python 3 (ipykernel)",
   "language": "python",
   "name": "python3"
  },
  "language_info": {
   "codemirror_mode": {
    "name": "ipython",
    "version": 3
   },
   "file_extension": ".py",
   "mimetype": "text/x-python",
   "name": "python",
   "nbconvert_exporter": "python",
   "pygments_lexer": "ipython3",
   "version": "3.13.5"
  }
 },
 "nbformat": 4,
 "nbformat_minor": 5
}
