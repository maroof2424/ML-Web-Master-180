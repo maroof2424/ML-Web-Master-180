{
 "cells": [
  {
   "cell_type": "code",
   "execution_count": 1,
   "id": "274219b3-c692-41a2-a3ff-fa007ea1f511",
   "metadata": {},
   "outputs": [],
   "source": [
    "import numpy as np\n",
    "import statistics as stats"
   ]
  },
  {
   "cell_type": "code",
   "execution_count": 2,
   "id": "15cba74f-2b1c-4296-8c22-338f940c6993",
   "metadata": {},
   "outputs": [],
   "source": [
    "data = [2, 4, 4, 4, 5, 5, 7, 9]\n",
    "N = len(data)"
   ]
  },
  {
   "cell_type": "code",
   "execution_count": 3,
   "id": "b9051373-1620-4abc-b8a4-9fdbca4f7bf5",
   "metadata": {},
   "outputs": [],
   "source": [
    "mean = sum(data)/N"
   ]
  },
  {
   "cell_type": "markdown",
   "id": "306f9ba4-80a8-46e0-9abe-1e638e195486",
   "metadata": {},
   "source": [
    "## Step-by-step manual variance (population)"
   ]
  },
  {
   "cell_type": "code",
   "execution_count": 4,
   "id": "76f7784b-18f1-4351-9ab1-a8fea57f0366",
   "metadata": {},
   "outputs": [],
   "source": [
    "squared_diffs = [(x - mean) ** 2 for x in data]\n",
    "population_variance = sum(squared_diffs) / N\n",
    "population_std = population_variance ** 0.5"
   ]
  },
  {
   "cell_type": "markdown",
   "id": "e0099996-e0f7-427b-8b7a-8df805e0168a",
   "metadata": {},
   "source": [
    "## Step-by-step manual variance (sample)"
   ]
  },
  {
   "cell_type": "code",
   "execution_count": 5,
   "id": "7d77d1be-1507-468c-a468-38f8b155dae0",
   "metadata": {},
   "outputs": [],
   "source": [
    "sample_variance = sum(squared_diffs) / (N - 1)\n",
    "sample_std = sample_variance ** 0.5"
   ]
  },
  {
   "cell_type": "code",
   "execution_count": 6,
   "id": "da06cfa7-7641-48a1-bb6b-012f803fb1fa",
   "metadata": {},
   "outputs": [
    {
     "name": "stdout",
     "output_type": "stream",
     "text": [
      "Dataset: [2, 4, 4, 4, 5, 5, 7, 9]\n",
      "Mean: 5.0\n",
      "\n",
      "Population Variance: 4.0\n",
      "Population Std Dev: 2.0\n",
      "\n",
      "Sample Variance: 4.571428571428571\n",
      "Sample Std Dev: 2.138089935299395\n"
     ]
    }
   ],
   "source": [
    "print(\"Dataset:\", data)\n",
    "print(\"Mean:\", mean)\n",
    "print(\"\\nPopulation Variance:\", population_variance)\n",
    "print(\"Population Std Dev:\", population_std)\n",
    "print(\"\\nSample Variance:\", sample_variance)\n",
    "print(\"Sample Std Dev:\", sample_std)"
   ]
  },
  {
   "cell_type": "markdown",
   "id": "6dc68e4a-873e-4e8e-84fe-abc9e8b19228",
   "metadata": {},
   "source": [
    "# 2. Using Python Libraries"
   ]
  },
  {
   "cell_type": "code",
   "execution_count": 7,
   "id": "2dcf2c3c-4fac-4641-91da-e364297b5768",
   "metadata": {},
   "outputs": [
    {
     "name": "stdout",
     "output_type": "stream",
     "text": [
      "\n",
      "--- Using Python Libraries ---\n",
      "statistics.pvariance: 4\n",
      "statistics.variance : 4.571428571428571\n",
      "statistics.pstdev   : 2.0\n",
      "statistics.stdev    : 2.138089935299395\n",
      "\n",
      "Using NumPy\n",
      "np.var (population): 4.0\n",
      "np.var (sample)    : 4.571428571428571\n",
      "np.std (population): 2.0\n",
      "np.std (sample)    : 2.138089935299395\n"
     ]
    }
   ],
   "source": [
    "print(\"\\n--- Using Python Libraries ---\")\n",
    "print(\"statistics.pvariance:\", stats.pvariance(data))  # population variance\n",
    "print(\"statistics.variance :\", stats.variance(data))   # sample variance\n",
    "print(\"statistics.pstdev   :\", stats.pstdev(data))     # population std\n",
    "print(\"statistics.stdev    :\", stats.stdev(data))      # sample std\n",
    "\n",
    "print(\"\\nUsing NumPy\")\n",
    "print(\"np.var (population):\", np.var(data))\n",
    "print(\"np.var (sample)    :\", np.var(data, ddof=1))\n",
    "print(\"np.std (population):\", np.std(data))\n",
    "print(\"np.std (sample)    :\", np.std(data, ddof=1))"
   ]
  },
  {
   "cell_type": "markdown",
   "id": "97976908-307f-4e75-9771-de2325d4a338",
   "metadata": {},
   "source": [
    "# 3. Practice Problems"
   ]
  },
  {
   "cell_type": "markdown",
   "id": "60109f7f-aedd-4d9d-9df1-b670b093075c",
   "metadata": {},
   "source": [
    "## Example 1: {1,2,3,4,5}"
   ]
  },
  {
   "cell_type": "code",
   "execution_count": 8,
   "id": "1e1495ba-139c-4bd7-a2e3-9c1d74f0eeba",
   "metadata": {},
   "outputs": [
    {
     "name": "stdout",
     "output_type": "stream",
     "text": [
      "\n",
      "Practice 1 - {1,2,3,4,5}\n",
      "Variance: 2.0\n",
      "Std Dev : 1.4142135623730951\n"
     ]
    }
   ],
   "source": [
    "dataset1 = [1,2,3,4,5]\n",
    "print(\"\\nPractice 1 - {1,2,3,4,5}\")\n",
    "print(\"Variance:\", np.var(dataset1, ddof=0))\n",
    "print(\"Std Dev :\", np.std(dataset1, ddof=0))"
   ]
  },
  {
   "cell_type": "markdown",
   "id": "cc5144a0-fd27-48a1-822b-bccd7f7dc206",
   "metadata": {},
   "source": [
    "## Example 2: Exam scores {50,60,70,80,90}"
   ]
  },
  {
   "cell_type": "code",
   "execution_count": 9,
   "id": "09801a6b-ee6e-4daa-aa22-7d84e5012c83",
   "metadata": {},
   "outputs": [
    {
     "name": "stdout",
     "output_type": "stream",
     "text": [
      "\n",
      "Practice 2 - Exam scores\n",
      "Variance: 200.0\n",
      "Std Dev : 14.142135623730951\n"
     ]
    }
   ],
   "source": [
    "dataset2 = [50,60,70,80,90]\n",
    "print(\"\\nPractice 2 - Exam scores\")\n",
    "print(\"Variance:\", np.var(dataset2, ddof=0))\n",
    "print(\"Std Dev :\", np.std(dataset2, ddof=0))"
   ]
  },
  {
   "cell_type": "code",
   "execution_count": null,
   "id": "43ef5071-0c04-4604-8bf0-0079791d1e04",
   "metadata": {},
   "outputs": [],
   "source": []
  }
 ],
 "metadata": {
  "kernelspec": {
   "display_name": "Python 3 (ipykernel)",
   "language": "python",
   "name": "python3"
  },
  "language_info": {
   "codemirror_mode": {
    "name": "ipython",
    "version": 3
   },
   "file_extension": ".py",
   "mimetype": "text/x-python",
   "name": "python",
   "nbconvert_exporter": "python",
   "pygments_lexer": "ipython3",
   "version": "3.13.5"
  }
 },
 "nbformat": 4,
 "nbformat_minor": 5
}
