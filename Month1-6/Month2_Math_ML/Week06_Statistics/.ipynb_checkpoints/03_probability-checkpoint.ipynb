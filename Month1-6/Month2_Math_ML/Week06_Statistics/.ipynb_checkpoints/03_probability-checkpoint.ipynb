{
 "cells": [
  {
   "cell_type": "markdown",
   "id": "dfd3e703-92b3-4e29-845a-9bbd83ea6c5d",
   "metadata": {},
   "source": [
    "# 1. Basics of Probability\n",
    "## P(E) = (Number of favorable outcomes) / (Total outcomes)"
   ]
  },
  {
   "cell_type": "code",
   "execution_count": 1,
   "id": "5b458ab8-2d2c-4fc9-9a3c-90c762413fa5",
   "metadata": {},
   "outputs": [
    {
     "name": "stdout",
     "output_type": "stream",
     "text": [
      "P(rolling a 4): 0.16666666666666666\n"
     ]
    }
   ],
   "source": [
    "total_outcomes = 6\n",
    "favorable_outcomes = 1  \n",
    "P_roll_4 = favorable_outcomes / total_outcomes\n",
    "print(\"P(rolling a 4):\", P_roll_4)"
   ]
  },
  {
   "cell_type": "code",
   "execution_count": 2,
   "id": "514e6691-fd46-40c4-8712-fd63a399a16f",
   "metadata": {},
   "outputs": [
    {
     "name": "stdout",
     "output_type": "stream",
     "text": [
      "P(drawing a red card): 0.5\n"
     ]
    }
   ],
   "source": [
    "P_red = 26 / 52\n",
    "print(\"P(drawing a red card):\", P_red)"
   ]
  },
  {
   "cell_type": "markdown",
   "id": "b9f41ab7-5883-4319-afdd-bf8fc01f789f",
   "metadata": {},
   "source": [
    "# 2. Independent & Dependent Events\n",
    "## Independent Example: Tossing 2 coins\n",
    "### P(H on coin1 and H on coin2) = P(H) * P(H)"
   ]
  },
  {
   "cell_type": "code",
   "execution_count": 3,
   "id": "c9c7ef6d-968d-46be-96d2-be151fdc27ca",
   "metadata": {},
   "outputs": [
    {
     "name": "stdout",
     "output_type": "stream",
     "text": [
      "P(H and H) in 2 coin tosses: 0.25\n"
     ]
    }
   ],
   "source": [
    "P_heads = 1/2\n",
    "P_two_heads = P_heads * P_heads\n",
    "print(\"P(H and H) in 2 coin tosses:\", P_two_heads)"
   ]
  },
  {
   "cell_type": "markdown",
   "id": "a94ca20c-19c9-4461-9f15-21911216fe5d",
   "metadata": {},
   "source": [
    "## Dependent Example: Drawing 2 cards without replacement\n",
    "### P(1st Ace) = 4/52\n",
    "### P(2nd Ace | 1st Ace taken) = 3/51"
   ]
  },
  {
   "cell_type": "code",
   "execution_count": 4,
   "id": "fdf5dc3a-3f1b-4508-8b34-9cf9ac5c51e4",
   "metadata": {},
   "outputs": [
    {
     "name": "stdout",
     "output_type": "stream",
     "text": [
      "P(drawing 2 aces without replacement): 0.004524886877828055\n"
     ]
    }
   ],
   "source": [
    "P_first_ace = 4/52\n",
    "P_second_ace = 3/51\n",
    "P_two_aces = P_first_ace * P_second_ace\n",
    "print(\"P(drawing 2 aces without replacement):\", P_two_aces)"
   ]
  },
  {
   "cell_type": "markdown",
   "id": "7215541d-bb5b-43c2-b7e8-13e743adaf17",
   "metadata": {},
   "source": [
    "# 3. Conditional Probability\n",
    "## P(A|B) = P(A ∩ B) / P(B)"
   ]
  },
  {
   "cell_type": "markdown",
   "id": "5cc15e46-4432-4703-ac78-2f96e7f437f5",
   "metadata": {},
   "source": [
    "## Example: In a class of 30 students:\n",
    "### 18 play cricket, 12 play football, 8 play both\n",
    "### If a student plays football, what's the probability they also play cricket?"
   ]
  },
  {
   "cell_type": "code",
   "execution_count": 5,
   "id": "928789d4-0698-40a8-b6d9-6e27c110f9a7",
   "metadata": {},
   "outputs": [
    {
     "name": "stdout",
     "output_type": "stream",
     "text": [
      "P(Cricket | Football): 0.6666666666666666\n"
     ]
    }
   ],
   "source": [
    "P_cricket = 18/30\n",
    "P_football = 12/30\n",
    "P_both = 8/30\n",
    "P_cricket_given_football = P_both / P_football\n",
    "print(\"P(Cricket | Football):\", P_cricket_given_football)"
   ]
  },
  {
   "cell_type": "markdown",
   "id": "dd45f9db-a9e1-4bc4-a87c-0bd664092d13",
   "metadata": {},
   "source": [
    "# 4. Simulation with Python (using random)"
   ]
  },
  {
   "cell_type": "code",
   "execution_count": 6,
   "id": "75a0f8cd-bf9c-4647-8914-94b8ae788b9d",
   "metadata": {},
   "outputs": [],
   "source": [
    "import random"
   ]
  },
  {
   "cell_type": "code",
   "execution_count": 7,
   "id": "4e83a4ae-0f8a-42ea-b96d-2aa5d730dd76",
   "metadata": {},
   "outputs": [
    {
     "name": "stdout",
     "output_type": "stream",
     "text": [
      "\n",
      "Simulated P(Head): 0.48\n",
      "Simulated P(rolling a 6): 0.1697\n"
     ]
    }
   ],
   "source": [
    "# Simulate probability of getting heads in 1000 coin tosses\n",
    "tosses = 1000\n",
    "heads = sum(1 for _ in range(tosses) if random.choice([\"H\", \"T\"]) == \"H\")\n",
    "print(\"\\nSimulated P(Head):\", heads/tosses)\n",
    "\n",
    "# Simulate rolling a die 10000 times, probability of rolling a 6\n",
    "rolls = 10000\n",
    "sixes = sum(1 for _ in range(rolls) if random.randint(1,6) == 6)\n",
    "print(\"Simulated P(rolling a 6):\", sixes/rolls)"
   ]
  },
  {
   "cell_type": "code",
   "execution_count": null,
   "id": "ef158e8e-8c10-4b8b-8f58-694fed196887",
   "metadata": {},
   "outputs": [],
   "source": []
  }
 ],
 "metadata": {
  "kernelspec": {
   "display_name": "Python 3 (ipykernel)",
   "language": "python",
   "name": "python3"
  },
  "language_info": {
   "codemirror_mode": {
    "name": "ipython",
    "version": 3
   },
   "file_extension": ".py",
   "mimetype": "text/x-python",
   "name": "python",
   "nbconvert_exporter": "python",
   "pygments_lexer": "ipython3",
   "version": "3.13.5"
  }
 },
 "nbformat": 4,
 "nbformat_minor": 5
}
