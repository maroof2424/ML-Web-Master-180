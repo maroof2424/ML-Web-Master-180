{
 "cells": [
  {
   "cell_type": "code",
   "execution_count": 2,
   "id": "832df4a3-caa7-4e29-940b-a44bfab5a357",
   "metadata": {},
   "outputs": [],
   "source": [
    "import numpy as np\n",
    "from scipy import stats"
   ]
  },
  {
   "cell_type": "code",
   "execution_count": 3,
   "id": "e540c84c-8116-4040-b6ba-bf6790be0551",
   "metadata": {},
   "outputs": [],
   "source": [
    "data = [12, 15, 14, 10, 13, 15, 16, 14, 14, 15]"
   ]
  },
  {
   "cell_type": "markdown",
   "id": "3120fc58-798c-45c7-88a2-49a249a4b545",
   "metadata": {},
   "source": [
    "## One-sample Z-test (assuming population mean=12)"
   ]
  },
  {
   "cell_type": "code",
   "execution_count": 6,
   "id": "d9e5a335-e15b-4a27-9696-b469d55ab860",
   "metadata": {},
   "outputs": [],
   "source": [
    "mean_pop = 12\n",
    "mean_sample = np.mean(data)\n",
    "std_sample = np.std(data,ddof=1)\n",
    "n = len(data)"
   ]
  },
  {
   "cell_type": "code",
   "execution_count": 7,
   "id": "5dff8f6d-6d48-466a-8d5f-350a0590a962",
   "metadata": {},
   "outputs": [],
   "source": [
    "z_score = (mean_sample - mean_pop) / (std_sample / np.sqrt(n))"
   ]
  },
  {
   "cell_type": "code",
   "execution_count": 8,
   "id": "edfc3671-dbfd-4a20-a399-f9f831d2e9d8",
   "metadata": {},
   "outputs": [],
   "source": [
    "p_value = 2 * (1 - stats.norm.cdf(abs(z_score)))"
   ]
  },
  {
   "cell_type": "code",
   "execution_count": 9,
   "id": "34fbfa59-0589-4825-a98f-fdc4bfcc0fc3",
   "metadata": {},
   "outputs": [
    {
     "name": "stdout",
     "output_type": "stream",
     "text": [
      "Z-Score: 3.2504180333157695\n",
      "P-Value: 0.0011523548173193454\n"
     ]
    }
   ],
   "source": [
    "print(f\"Z-Score: {z_score}\")\n",
    "print(f\"P-Value: {p_value}\")"
   ]
  },
  {
   "cell_type": "code",
   "execution_count": null,
   "id": "0b658ed6-d440-4584-88ce-ce7d68750897",
   "metadata": {},
   "outputs": [],
   "source": []
  }
 ],
 "metadata": {
  "kernelspec": {
   "display_name": "Python 3 (ipykernel)",
   "language": "python",
   "name": "python3"
  },
  "language_info": {
   "codemirror_mode": {
    "name": "ipython",
    "version": 3
   },
   "file_extension": ".py",
   "mimetype": "text/x-python",
   "name": "python",
   "nbconvert_exporter": "python",
   "pygments_lexer": "ipython3",
   "version": "3.13.5"
  }
 },
 "nbformat": 4,
 "nbformat_minor": 5
}
