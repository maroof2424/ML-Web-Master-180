{
 "cells": [
  {
   "cell_type": "markdown",
   "id": "6bede05e-5759-4920-9f1b-0d2a72578b4f",
   "metadata": {},
   "source": [
    "## **Manually Calculate(Mean, Median, Mode)**"
   ]
  },
  {
   "cell_type": "code",
   "execution_count": 1,
   "id": "7e5f3a4f-1ca2-4d7e-a1f6-f7d56bfc21ac",
   "metadata": {},
   "outputs": [],
   "source": [
    "data = [1,2,2,3,4,7,9]"
   ]
  },
  {
   "cell_type": "code",
   "execution_count": 3,
   "id": "d5a759b1-b674-43f1-825c-901e62b603a4",
   "metadata": {},
   "outputs": [
    {
     "name": "stdout",
     "output_type": "stream",
     "text": [
      "The Mean is 4.0\n"
     ]
    }
   ],
   "source": [
    "# Mean\n",
    "mean = sum(data)/len(data)\n",
    "print(f\"The Mean is {mean}\")"
   ]
  },
  {
   "cell_type": "code",
   "execution_count": 4,
   "id": "bb22d396-9894-4fce-bd66-b0db16ee6c47",
   "metadata": {},
   "outputs": [
    {
     "name": "stdout",
     "output_type": "stream",
     "text": [
      "The Median is 3\n"
     ]
    }
   ],
   "source": [
    "# Median\n",
    "sorted_data = sorted(data)\n",
    "n = len(sorted_data)\n",
    "if n % 2 == 0:\n",
    "    median_value = (sorted_data[n//2-1]+sorted_data[n//2])/2\n",
    "else:\n",
    "    median_value = sorted_data[n//2]\n",
    "print(f\"The Median is {median_value}\")"
   ]
  },
  {
   "cell_type": "code",
   "execution_count": null,
   "id": "2906cf90-26bd-4532-ba28-cb1dd3f305dd",
   "metadata": {},
   "outputs": [],
   "source": [
    "from collections import Counter\n",
    "mode_value = Counter(data).most_common(1)[0][0]\n",
    "print(\"Mode:\", mode_value)"
   ]
  },
  {
   "cell_type": "code",
   "execution_count": 5,
   "id": "2fb38f99-a118-43d2-8e81-783ec7c3fd00",
   "metadata": {},
   "outputs": [],
   "source": [
    "import statistics"
   ]
  },
  {
   "cell_type": "code",
   "execution_count": 6,
   "id": "ee948a70-0365-4448-b95c-0cbe47bde7de",
   "metadata": {},
   "outputs": [
    {
     "name": "stdout",
     "output_type": "stream",
     "text": [
      "Mean: 4\n"
     ]
    }
   ],
   "source": [
    "# Mean\n",
    "mean_value = statistics.mean(data)\n",
    "print(\"Mean:\", mean_value)"
   ]
  },
  {
   "cell_type": "code",
   "execution_count": 7,
   "id": "352498e9-fc53-4d30-b0fd-da58f690bb6c",
   "metadata": {},
   "outputs": [
    {
     "name": "stdout",
     "output_type": "stream",
     "text": [
      "Median: 3\n"
     ]
    }
   ],
   "source": [
    "# Median\n",
    "median_value = statistics.median(data)\n",
    "print(\"Median:\", median_value)"
   ]
  },
  {
   "cell_type": "code",
   "execution_count": 8,
   "id": "67b18aa8-0e2f-4803-8eff-19dfba0ee063",
   "metadata": {},
   "outputs": [
    {
     "name": "stdout",
     "output_type": "stream",
     "text": [
      "Mode: 2\n"
     ]
    }
   ],
   "source": [
    "# Mode\n",
    "mode_value = statistics.mode(data)\n",
    "print(\"Mode:\", mode_value)"
   ]
  },
  {
   "cell_type": "code",
   "execution_count": 9,
   "id": "424d59ee-b4b9-4cfc-a06c-5cd2730579a8",
   "metadata": {},
   "outputs": [],
   "source": [
    "import pandas as pd"
   ]
  },
  {
   "cell_type": "code",
   "execution_count": 10,
   "id": "5c9d87d7-548e-4fbf-a6f7-f79437d92110",
   "metadata": {},
   "outputs": [],
   "source": [
    "data = {'A': [10, 20, 30, 40, 50]}\n",
    "df = pd.DataFrame(data)"
   ]
  },
  {
   "cell_type": "code",
   "execution_count": 11,
   "id": "222109c0-e006-46dc-87dc-aa3ef9370c39",
   "metadata": {},
   "outputs": [
    {
     "name": "stdout",
     "output_type": "stream",
     "text": [
      "Mean: 30.0\n"
     ]
    }
   ],
   "source": [
    "# Calculate mean\n",
    "mean_value = df['A'].mean()\n",
    "print(\"Mean:\", mean_value)"
   ]
  },
  {
   "cell_type": "code",
   "execution_count": 12,
   "id": "a7b0e96d-2b91-47a0-9b6b-49b9caec4b9b",
   "metadata": {},
   "outputs": [
    {
     "name": "stdout",
     "output_type": "stream",
     "text": [
      "Median: 30.0\n"
     ]
    }
   ],
   "source": [
    "# Calculate median\n",
    "median_value = df['A'].median()\n",
    "print(\"Median:\", median_value)"
   ]
  },
  {
   "cell_type": "code",
   "execution_count": 13,
   "id": "919f2ba6-0dbb-4718-ae04-9a17eba11eb8",
   "metadata": {},
   "outputs": [
    {
     "name": "stdout",
     "output_type": "stream",
     "text": [
      "Mode: 10\n"
     ]
    }
   ],
   "source": [
    "# Calculate mode\n",
    "mode_value = df['A'].mode()\n",
    "print(\"Mode:\", mode_value[0]) "
   ]
  },
  {
   "cell_type": "code",
   "execution_count": null,
   "id": "97dfb529-fe21-4c81-873a-9a82877f2b82",
   "metadata": {},
   "outputs": [],
   "source": []
  }
 ],
 "metadata": {
  "kernelspec": {
   "display_name": "Python 3 (ipykernel)",
   "language": "python",
   "name": "python3"
  },
  "language_info": {
   "codemirror_mode": {
    "name": "ipython",
    "version": 3
   },
   "file_extension": ".py",
   "mimetype": "text/x-python",
   "name": "python",
   "nbconvert_exporter": "python",
   "pygments_lexer": "ipython3",
   "version": "3.13.5"
  }
 },
 "nbformat": 4,
 "nbformat_minor": 5
}
