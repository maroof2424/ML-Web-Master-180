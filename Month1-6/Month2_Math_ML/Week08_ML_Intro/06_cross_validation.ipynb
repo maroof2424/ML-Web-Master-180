{
  "nbformat": 4,
  "nbformat_minor": 0,
  "metadata": {
    "colab": {
      "provenance": []
    },
    "kernelspec": {
      "name": "python3",
      "display_name": "Python 3"
    },
    "language_info": {
      "name": "python"
    }
  },
  "cells": [
    {
      "cell_type": "code",
      "execution_count": 1,
      "metadata": {
        "id": "Z0Ij1F6etiLc"
      },
      "outputs": [],
      "source": [
        "from sklearn.model_selection import cross_val_score\n",
        "from sklearn.linear_model import LogisticRegression\n",
        "from sklearn.ensemble import RandomForestClassifier\n",
        "from sklearn.datasets import load_iris\n",
        "import numpy as np"
      ]
    },
    {
      "cell_type": "code",
      "source": [
        "iris = load_iris()\n",
        "X, y = iris.data, iris.target"
      ],
      "metadata": {
        "id": "_Vau9yNnt5EB"
      },
      "execution_count": 2,
      "outputs": []
    },
    {
      "cell_type": "code",
      "source": [
        "log_reg = LogisticRegression(max_iter=1000)\n",
        "scores_lr = cross_val_score(log_reg, X, y, cv=5)\n",
        "print(\"Logistic Regression CV scores:\", scores_lr)\n",
        "print(\"Average Accuracy:\", np.mean(scores_lr))"
      ],
      "metadata": {
        "colab": {
          "base_uri": "https://localhost:8080/"
        },
        "id": "DnEZ5oXCuJEN",
        "outputId": "34ed217e-a6bd-4f1d-a595-e31ff1ac1778"
      },
      "execution_count": 3,
      "outputs": [
        {
          "output_type": "stream",
          "name": "stdout",
          "text": [
            "Logistic Regression CV scores: [0.96666667 1.         0.93333333 0.96666667 1.        ]\n",
            "Average Accuracy: 0.9733333333333334\n"
          ]
        }
      ]
    },
    {
      "cell_type": "code",
      "source": [
        "rf = RandomForestClassifier()\n",
        "scores_rf = cross_val_score(rf, X, y, cv=5)\n",
        "print(\"\\nRandom Forest CV scores:\", scores_rf)\n",
        "print(\"Average Accuracy:\", np.mean(scores_rf))"
      ],
      "metadata": {
        "colab": {
          "base_uri": "https://localhost:8080/"
        },
        "id": "7i9DpDeIuU9d",
        "outputId": "5537e129-da14-4d17-a3d2-c2086554a641"
      },
      "execution_count": 4,
      "outputs": [
        {
          "output_type": "stream",
          "name": "stdout",
          "text": [
            "\n",
            "Random Forest CV scores: [0.96666667 0.96666667 0.93333333 0.96666667 1.        ]\n",
            "Average Accuracy: 0.9666666666666668\n"
          ]
        }
      ]
    }
  ]
}