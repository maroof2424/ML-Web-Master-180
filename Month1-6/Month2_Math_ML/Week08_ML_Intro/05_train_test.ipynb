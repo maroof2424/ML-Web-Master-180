{
  "nbformat": 4,
  "nbformat_minor": 0,
  "metadata": {
    "colab": {
      "provenance": []
    },
    "kernelspec": {
      "name": "python3",
      "display_name": "Python 3"
    },
    "language_info": {
      "name": "python"
    }
  },
  "cells": [
    {
      "cell_type": "code",
      "execution_count": 3,
      "metadata": {
        "id": "m_e4G4VygI_E"
      },
      "outputs": [],
      "source": [
        "import numpy as np\n",
        "import pandas as pd\n",
        "import matplotlib.pyplot as plt\n",
        "import seaborn as sns\n",
        "from sklearn.model_selection import train_test_split"
      ]
    },
    {
      "cell_type": "code",
      "source": [
        "df = sns.load_dataset(\"titanic\")"
      ],
      "metadata": {
        "id": "Q1ZzFKxAgcMf"
      },
      "execution_count": 4,
      "outputs": []
    },
    {
      "cell_type": "code",
      "source": [
        "df['sex'] = df['sex'].map({\"male\":0,\"female\":1})\n",
        "df['class'] = df['class'].map({\"First\":1,\"Second\":2,\"Third\":3})"
      ],
      "metadata": {
        "id": "Ae9045klhKzj"
      },
      "execution_count": 5,
      "outputs": []
    },
    {
      "cell_type": "code",
      "source": [
        "X = df.drop(\"survived\", axis=1)\n",
        "y = df[\"survived\"]"
      ],
      "metadata": {
        "id": "Q-FKFvpWhfhG"
      },
      "execution_count": 6,
      "outputs": []
    },
    {
      "cell_type": "code",
      "source": [
        "X_train,X_test,y_train,y_test = train_test_split(X,y,test_size=0.2,random_state=42)"
      ],
      "metadata": {
        "id": "9WOoDgJrhhuA"
      },
      "execution_count": 8,
      "outputs": []
    },
    {
      "cell_type": "code",
      "source": [
        "print(f\"X_train: {X_train}\")\n",
        "print(f\"X_test: {X_test}\")\n",
        "print(f\"y_train: {y_train}\")\n",
        "print(f\"y_test: {y_test}\")"
      ],
      "metadata": {
        "colab": {
          "base_uri": "https://localhost:8080/"
        },
        "id": "FWA30QFHhy9h",
        "outputId": "78696baa-b79f-4716-89f8-1acc9177492a"
      },
      "execution_count": 9,
      "outputs": [
        {
          "output_type": "stream",
          "name": "stdout",
          "text": [
            "X_train:      pclass  sex   age  sibsp  parch  ...  adult_male deck  embark_town alive  alone\n",
            "331       1    0  45.5      0      0  ...        True    C  Southampton    no   True\n",
            "733       2    0  23.0      0      0  ...        True  NaN  Southampton    no   True\n",
            "382       3    0  32.0      0      0  ...        True  NaN  Southampton    no   True\n",
            "704       3    0  26.0      1      0  ...        True  NaN  Southampton    no  False\n",
            "813       3    1   6.0      4      2  ...       False  NaN  Southampton    no  False\n",
            "..      ...  ...   ...    ...    ...  ...         ...  ...          ...   ...    ...\n",
            "106       3    1  21.0      0      0  ...       False  NaN  Southampton   yes   True\n",
            "270       1    0   NaN      0      0  ...        True  NaN  Southampton    no   True\n",
            "860       3    0  41.0      2      0  ...        True  NaN  Southampton    no  False\n",
            "435       1    1  14.0      1      2  ...       False    B  Southampton   yes  False\n",
            "102       1    0  21.0      0      1  ...        True    D  Southampton    no  False\n",
            "\n",
            "[712 rows x 14 columns]\n",
            "X_test:      pclass  sex   age  sibsp  parch  ...  adult_male deck  embark_town alive  alone\n",
            "709       3    0   NaN      1      1  ...        True  NaN    Cherbourg   yes  False\n",
            "439       2    0  31.0      0      0  ...        True  NaN  Southampton    no   True\n",
            "840       3    0  20.0      0      0  ...        True  NaN  Southampton    no   True\n",
            "720       2    1   6.0      0      1  ...       False  NaN  Southampton   yes  False\n",
            "39        3    1  14.0      1      0  ...       False  NaN    Cherbourg   yes  False\n",
            "..      ...  ...   ...    ...    ...  ...         ...  ...          ...   ...    ...\n",
            "433       3    0  17.0      0      0  ...        True  NaN  Southampton    no   True\n",
            "773       3    0   NaN      0      0  ...        True  NaN    Cherbourg    no   True\n",
            "25        3    1  38.0      1      5  ...       False  NaN  Southampton   yes  False\n",
            "84        2    1  17.0      0      0  ...       False  NaN  Southampton   yes   True\n",
            "10        3    1   4.0      1      1  ...       False    G  Southampton   yes  False\n",
            "\n",
            "[179 rows x 14 columns]\n",
            "y_train: 331    0\n",
            "733    0\n",
            "382    0\n",
            "704    0\n",
            "813    0\n",
            "      ..\n",
            "106    1\n",
            "270    0\n",
            "860    0\n",
            "435    1\n",
            "102    0\n",
            "Name: survived, Length: 712, dtype: int64\n",
            "y_test: 709    1\n",
            "439    0\n",
            "840    0\n",
            "720    1\n",
            "39     1\n",
            "      ..\n",
            "433    0\n",
            "773    0\n",
            "25     1\n",
            "84     1\n",
            "10     1\n",
            "Name: survived, Length: 179, dtype: int64\n"
          ]
        }
      ]
    },
    {
      "cell_type": "code",
      "source": [],
      "metadata": {
        "id": "QyF9Yh52iF1A"
      },
      "execution_count": null,
      "outputs": []
    }
  ]
}